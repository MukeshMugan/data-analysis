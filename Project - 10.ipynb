{
 "cells": [
  {
   "cell_type": "markdown",
   "id": "41fe4ead",
   "metadata": {},
   "source": [
    "Dataset On Kaggle :  https://www.kaggle.com/gustavomodelli.."
   ]
  },
  {
   "cell_type": "markdown",
   "id": "24c40e6a",
   "metadata": {},
   "source": [
    " ## Forest Fires in Brazil | Python Pandas Project | Kaggle Dataset"
   ]
  },
  {
   "cell_type": "markdown",
   "id": "78a9149e",
   "metadata": {},
   "source": [
    "Questions:\n",
    "1. Display Top 5 Rows of The Dataset\n",
    "2. Check Last 5 Rows\n",
    "3. Find Shape of Our Dataset (Number of Rows And Number of Columns)\n",
    "4. Getting Information About Our Dataset Like Total Number Rows, Total Number of Columns, Datatypes of Each Column And Memory Requirement\n",
    "5. Check For Duplicate Data and Drop Them\n",
    "6. Check Null Values In The Dataset\n",
    "7. Get Overall Statistics About The Dataframe\n",
    "8. Rename Month Names To English\n",
    "9. Total Number of Fires Registered\n",
    "10. In Which Month Maximum Number of Forest Fires Were Reported?\n",
    "11. In Which Year Maximum Number of Forest Fires Was Reported?\n",
    "12. In Which State Maximum Number of Forest Fires Was Reported?\n",
    "13. Find Total Number of Fires Were Reported In Amazonas\n",
    "14. Display Number of Fires Were Reported In Amazonas (Year-Wise)\n",
    "15. Display Number of Fires Were Reported In Amazonas (Day-Wise)\n",
    "16. Find Total Number of Fires  Were Reported In 2015 And Visualize Data Based on Each ‘Month’\n",
    "17. Find Average Number of Fires Were Reported From Highest to Lowest (State-Wise)\n",
    "18.  To Find The State Names Where Fires Were Reported In 'dec' Month"
   ]
  },
  {
   "cell_type": "code",
   "execution_count": 114,
   "id": "e07e391f",
   "metadata": {},
   "outputs": [],
   "source": [
    "import pandas  as pd \n",
    "import numpy as np\n",
    "import seaborn as sns\n",
    "import matplotlib.pyplot as plt\n",
    "import os\n"
   ]
  },
  {
   "cell_type": "code",
   "execution_count": 115,
   "id": "fae3cea4",
   "metadata": {},
   "outputs": [
    {
     "data": {
      "text/plain": [
       "['.ipynb_checkpoints',\n",
       " 'adult.csv',\n",
       " 'amazon.csv',\n",
       " 'countries of the world.csv',\n",
       " 'Customer Call List.xlsx',\n",
       " 'Ecommerce Purchases.csv',\n",
       " 'Flavors.csv',\n",
       " 'googleplaystore.csv',\n",
       " 'Ice Cream Ratings.csv',\n",
       " 'IMDB-Movie-Data.csv',\n",
       " 'List of the Countries and Territories.csv',\n",
       " 'LOTR 2.csv',\n",
       " 'LOTR.csv',\n",
       " 'Salaries.csv',\n",
       " 'top-5000-youtube-channels.csv',\n",
       " 'train.csv',\n",
       " 'udemy_courses.csv',\n",
       " 'world.csv']"
      ]
     },
     "execution_count": 115,
     "metadata": {},
     "output_type": "execute_result"
    }
   ],
   "source": [
    "os.listdir('./data_sets')"
   ]
  },
  {
   "cell_type": "code",
   "execution_count": 116,
   "id": "b33d02e3",
   "metadata": {},
   "outputs": [],
   "source": [
    "df = pd.read_csv('./data_sets/amazon.csv',encoding ='iso-8859-1',parse_dates=['date'])"
   ]
  },
  {
   "cell_type": "code",
   "execution_count": 117,
   "id": "3ab04b54",
   "metadata": {},
   "outputs": [
    {
     "data": {
      "text/plain": [
       "year               int64\n",
       "state             object\n",
       "month             object\n",
       "number           float64\n",
       "date      datetime64[ns]\n",
       "dtype: object"
      ]
     },
     "execution_count": 117,
     "metadata": {},
     "output_type": "execute_result"
    }
   ],
   "source": [
    "df.dtypes"
   ]
  },
  {
   "cell_type": "markdown",
   "id": "80197301",
   "metadata": {},
   "source": [
    "1. Display Top 5 Rows of The Dataset\n"
   ]
  },
  {
   "cell_type": "code",
   "execution_count": 118,
   "id": "7c0b930d",
   "metadata": {},
   "outputs": [
    {
     "data": {
      "text/html": [
       "<div>\n",
       "<style scoped>\n",
       "    .dataframe tbody tr th:only-of-type {\n",
       "        vertical-align: middle;\n",
       "    }\n",
       "\n",
       "    .dataframe tbody tr th {\n",
       "        vertical-align: top;\n",
       "    }\n",
       "\n",
       "    .dataframe thead th {\n",
       "        text-align: right;\n",
       "    }\n",
       "</style>\n",
       "<table border=\"1\" class=\"dataframe\">\n",
       "  <thead>\n",
       "    <tr style=\"text-align: right;\">\n",
       "      <th></th>\n",
       "      <th>year</th>\n",
       "      <th>state</th>\n",
       "      <th>month</th>\n",
       "      <th>number</th>\n",
       "      <th>date</th>\n",
       "    </tr>\n",
       "  </thead>\n",
       "  <tbody>\n",
       "    <tr>\n",
       "      <th>0</th>\n",
       "      <td>1998</td>\n",
       "      <td>Acre</td>\n",
       "      <td>Janeiro</td>\n",
       "      <td>0.00</td>\n",
       "      <td>1998-01-01</td>\n",
       "    </tr>\n",
       "    <tr>\n",
       "      <th>1</th>\n",
       "      <td>1999</td>\n",
       "      <td>Acre</td>\n",
       "      <td>Janeiro</td>\n",
       "      <td>0.00</td>\n",
       "      <td>1999-01-01</td>\n",
       "    </tr>\n",
       "    <tr>\n",
       "      <th>2</th>\n",
       "      <td>2000</td>\n",
       "      <td>Acre</td>\n",
       "      <td>Janeiro</td>\n",
       "      <td>0.00</td>\n",
       "      <td>2000-01-01</td>\n",
       "    </tr>\n",
       "    <tr>\n",
       "      <th>3</th>\n",
       "      <td>2001</td>\n",
       "      <td>Acre</td>\n",
       "      <td>Janeiro</td>\n",
       "      <td>0.00</td>\n",
       "      <td>2001-01-01</td>\n",
       "    </tr>\n",
       "    <tr>\n",
       "      <th>4</th>\n",
       "      <td>2002</td>\n",
       "      <td>Acre</td>\n",
       "      <td>Janeiro</td>\n",
       "      <td>0.00</td>\n",
       "      <td>2002-01-01</td>\n",
       "    </tr>\n",
       "  </tbody>\n",
       "</table>\n",
       "</div>"
      ],
      "text/plain": [
       "   year state    month  number       date\n",
       "0  1998  Acre  Janeiro    0.00 1998-01-01\n",
       "1  1999  Acre  Janeiro    0.00 1999-01-01\n",
       "2  2000  Acre  Janeiro    0.00 2000-01-01\n",
       "3  2001  Acre  Janeiro    0.00 2001-01-01\n",
       "4  2002  Acre  Janeiro    0.00 2002-01-01"
      ]
     },
     "execution_count": 118,
     "metadata": {},
     "output_type": "execute_result"
    }
   ],
   "source": [
    "df.head()"
   ]
  },
  {
   "cell_type": "markdown",
   "id": "d2518b34",
   "metadata": {},
   "source": [
    "2. Check Last 5 Rows\n"
   ]
  },
  {
   "cell_type": "code",
   "execution_count": 119,
   "id": "10a19399",
   "metadata": {},
   "outputs": [
    {
     "data": {
      "text/html": [
       "<div>\n",
       "<style scoped>\n",
       "    .dataframe tbody tr th:only-of-type {\n",
       "        vertical-align: middle;\n",
       "    }\n",
       "\n",
       "    .dataframe tbody tr th {\n",
       "        vertical-align: top;\n",
       "    }\n",
       "\n",
       "    .dataframe thead th {\n",
       "        text-align: right;\n",
       "    }\n",
       "</style>\n",
       "<table border=\"1\" class=\"dataframe\">\n",
       "  <thead>\n",
       "    <tr style=\"text-align: right;\">\n",
       "      <th></th>\n",
       "      <th>year</th>\n",
       "      <th>state</th>\n",
       "      <th>month</th>\n",
       "      <th>number</th>\n",
       "      <th>date</th>\n",
       "    </tr>\n",
       "  </thead>\n",
       "  <tbody>\n",
       "    <tr>\n",
       "      <th>6449</th>\n",
       "      <td>2012</td>\n",
       "      <td>Tocantins</td>\n",
       "      <td>Dezembro</td>\n",
       "      <td>128.00</td>\n",
       "      <td>2012-01-01</td>\n",
       "    </tr>\n",
       "    <tr>\n",
       "      <th>6450</th>\n",
       "      <td>2013</td>\n",
       "      <td>Tocantins</td>\n",
       "      <td>Dezembro</td>\n",
       "      <td>85.00</td>\n",
       "      <td>2013-01-01</td>\n",
       "    </tr>\n",
       "    <tr>\n",
       "      <th>6451</th>\n",
       "      <td>2014</td>\n",
       "      <td>Tocantins</td>\n",
       "      <td>Dezembro</td>\n",
       "      <td>223.00</td>\n",
       "      <td>2014-01-01</td>\n",
       "    </tr>\n",
       "    <tr>\n",
       "      <th>6452</th>\n",
       "      <td>2015</td>\n",
       "      <td>Tocantins</td>\n",
       "      <td>Dezembro</td>\n",
       "      <td>373.00</td>\n",
       "      <td>2015-01-01</td>\n",
       "    </tr>\n",
       "    <tr>\n",
       "      <th>6453</th>\n",
       "      <td>2016</td>\n",
       "      <td>Tocantins</td>\n",
       "      <td>Dezembro</td>\n",
       "      <td>119.00</td>\n",
       "      <td>2016-01-01</td>\n",
       "    </tr>\n",
       "  </tbody>\n",
       "</table>\n",
       "</div>"
      ],
      "text/plain": [
       "      year      state     month  number       date\n",
       "6449  2012  Tocantins  Dezembro  128.00 2012-01-01\n",
       "6450  2013  Tocantins  Dezembro   85.00 2013-01-01\n",
       "6451  2014  Tocantins  Dezembro  223.00 2014-01-01\n",
       "6452  2015  Tocantins  Dezembro  373.00 2015-01-01\n",
       "6453  2016  Tocantins  Dezembro  119.00 2016-01-01"
      ]
     },
     "execution_count": 119,
     "metadata": {},
     "output_type": "execute_result"
    }
   ],
   "source": [
    "df.tail()"
   ]
  },
  {
   "cell_type": "markdown",
   "id": "779cbae1",
   "metadata": {},
   "source": [
    "3. Find Shape of Our Dataset (Number of Rows And Number of Columns)\n"
   ]
  },
  {
   "cell_type": "code",
   "execution_count": 120,
   "id": "0d128f06",
   "metadata": {},
   "outputs": [
    {
     "name": "stdout",
     "output_type": "stream",
     "text": [
      "rows -  6454 \n",
      "column -  5\n"
     ]
    }
   ],
   "source": [
    "print(\"rows - \",df.shape[0],'\\ncolumn - ',df.shape[1])"
   ]
  },
  {
   "cell_type": "markdown",
   "id": "dcf1e2bb",
   "metadata": {},
   "source": [
    "4. Getting Information About Our Dataset Like Total Number Rows, Total Number of Columns, Datatypes of Each Column And Memory Requirement\n"
   ]
  },
  {
   "cell_type": "code",
   "execution_count": 121,
   "id": "ca229ab7",
   "metadata": {},
   "outputs": [
    {
     "name": "stdout",
     "output_type": "stream",
     "text": [
      "<class 'pandas.core.frame.DataFrame'>\n",
      "RangeIndex: 6454 entries, 0 to 6453\n",
      "Data columns (total 5 columns):\n",
      " #   Column  Non-Null Count  Dtype         \n",
      "---  ------  --------------  -----         \n",
      " 0   year    6454 non-null   int64         \n",
      " 1   state   6454 non-null   object        \n",
      " 2   month   6454 non-null   object        \n",
      " 3   number  6454 non-null   float64       \n",
      " 4   date    6454 non-null   datetime64[ns]\n",
      "dtypes: datetime64[ns](1), float64(1), int64(1), object(2)\n",
      "memory usage: 252.2+ KB\n"
     ]
    }
   ],
   "source": [
    "df.info()"
   ]
  },
  {
   "cell_type": "markdown",
   "id": "05140857",
   "metadata": {},
   "source": [
    "5. Check For Duplicate Data and Drop Them\n"
   ]
  },
  {
   "cell_type": "code",
   "execution_count": 122,
   "id": "9769f9e6",
   "metadata": {},
   "outputs": [
    {
     "data": {
      "text/plain": [
       "32"
      ]
     },
     "execution_count": 122,
     "metadata": {},
     "output_type": "execute_result"
    }
   ],
   "source": [
    "df.duplicated().sum()"
   ]
  },
  {
   "cell_type": "code",
   "execution_count": 123,
   "id": "6b6f8298",
   "metadata": {},
   "outputs": [],
   "source": [
    "df.drop_duplicates(inplace=True)"
   ]
  },
  {
   "cell_type": "markdown",
   "id": "cf6c8367",
   "metadata": {},
   "source": [
    "6. Check Null Values In The Dataset\n"
   ]
  },
  {
   "cell_type": "code",
   "execution_count": 124,
   "id": "a459a477",
   "metadata": {},
   "outputs": [
    {
     "data": {
      "text/plain": [
       "year      0\n",
       "state     0\n",
       "month     0\n",
       "number    0\n",
       "date      0\n",
       "dtype: int64"
      ]
     },
     "execution_count": 124,
     "metadata": {},
     "output_type": "execute_result"
    }
   ],
   "source": [
    "df.isnull().sum()"
   ]
  },
  {
   "cell_type": "markdown",
   "id": "525d1519",
   "metadata": {},
   "source": [
    "7. Get Overall Statistics About The Dataframe\n"
   ]
  },
  {
   "cell_type": "code",
   "execution_count": 125,
   "id": "fc5e823d",
   "metadata": {},
   "outputs": [],
   "source": [
    "pd.options.display.float_format = '{:.2f}'.format"
   ]
  },
  {
   "cell_type": "code",
   "execution_count": 126,
   "id": "c4ce6117",
   "metadata": {},
   "outputs": [
    {
     "name": "stderr",
     "output_type": "stream",
     "text": [
      "C:\\Users\\DELL\\AppData\\Local\\Temp\\ipykernel_6112\\3456528045.py:1: FutureWarning: Treating datetime data as categorical rather than numeric in `.describe` is deprecated and will be removed in a future version of pandas. Specify `datetime_is_numeric=True` to silence this warning and adopt the future behavior now.\n",
      "  df.describe(include ='all')\n"
     ]
    },
    {
     "data": {
      "text/html": [
       "<div>\n",
       "<style scoped>\n",
       "    .dataframe tbody tr th:only-of-type {\n",
       "        vertical-align: middle;\n",
       "    }\n",
       "\n",
       "    .dataframe tbody tr th {\n",
       "        vertical-align: top;\n",
       "    }\n",
       "\n",
       "    .dataframe thead th {\n",
       "        text-align: right;\n",
       "    }\n",
       "</style>\n",
       "<table border=\"1\" class=\"dataframe\">\n",
       "  <thead>\n",
       "    <tr style=\"text-align: right;\">\n",
       "      <th></th>\n",
       "      <th>year</th>\n",
       "      <th>state</th>\n",
       "      <th>month</th>\n",
       "      <th>number</th>\n",
       "      <th>date</th>\n",
       "    </tr>\n",
       "  </thead>\n",
       "  <tbody>\n",
       "    <tr>\n",
       "      <th>count</th>\n",
       "      <td>6422.00</td>\n",
       "      <td>6422</td>\n",
       "      <td>6422</td>\n",
       "      <td>6422.00</td>\n",
       "      <td>6422</td>\n",
       "    </tr>\n",
       "    <tr>\n",
       "      <th>unique</th>\n",
       "      <td>NaN</td>\n",
       "      <td>23</td>\n",
       "      <td>12</td>\n",
       "      <td>NaN</td>\n",
       "      <td>20</td>\n",
       "    </tr>\n",
       "    <tr>\n",
       "      <th>top</th>\n",
       "      <td>NaN</td>\n",
       "      <td>Rio</td>\n",
       "      <td>Agosto</td>\n",
       "      <td>NaN</td>\n",
       "      <td>2015-01-01 00:00:00</td>\n",
       "    </tr>\n",
       "    <tr>\n",
       "      <th>freq</th>\n",
       "      <td>NaN</td>\n",
       "      <td>697</td>\n",
       "      <td>540</td>\n",
       "      <td>NaN</td>\n",
       "      <td>324</td>\n",
       "    </tr>\n",
       "    <tr>\n",
       "      <th>first</th>\n",
       "      <td>NaN</td>\n",
       "      <td>NaN</td>\n",
       "      <td>NaN</td>\n",
       "      <td>NaN</td>\n",
       "      <td>1998-01-01 00:00:00</td>\n",
       "    </tr>\n",
       "    <tr>\n",
       "      <th>last</th>\n",
       "      <td>NaN</td>\n",
       "      <td>NaN</td>\n",
       "      <td>NaN</td>\n",
       "      <td>NaN</td>\n",
       "      <td>2017-01-01 00:00:00</td>\n",
       "    </tr>\n",
       "    <tr>\n",
       "      <th>mean</th>\n",
       "      <td>2007.49</td>\n",
       "      <td>NaN</td>\n",
       "      <td>NaN</td>\n",
       "      <td>108.82</td>\n",
       "      <td>NaN</td>\n",
       "    </tr>\n",
       "    <tr>\n",
       "      <th>std</th>\n",
       "      <td>5.73</td>\n",
       "      <td>NaN</td>\n",
       "      <td>NaN</td>\n",
       "      <td>191.14</td>\n",
       "      <td>NaN</td>\n",
       "    </tr>\n",
       "    <tr>\n",
       "      <th>min</th>\n",
       "      <td>1998.00</td>\n",
       "      <td>NaN</td>\n",
       "      <td>NaN</td>\n",
       "      <td>0.00</td>\n",
       "      <td>NaN</td>\n",
       "    </tr>\n",
       "    <tr>\n",
       "      <th>25%</th>\n",
       "      <td>2003.00</td>\n",
       "      <td>NaN</td>\n",
       "      <td>NaN</td>\n",
       "      <td>3.00</td>\n",
       "      <td>NaN</td>\n",
       "    </tr>\n",
       "    <tr>\n",
       "      <th>50%</th>\n",
       "      <td>2007.00</td>\n",
       "      <td>NaN</td>\n",
       "      <td>NaN</td>\n",
       "      <td>24.50</td>\n",
       "      <td>NaN</td>\n",
       "    </tr>\n",
       "    <tr>\n",
       "      <th>75%</th>\n",
       "      <td>2012.00</td>\n",
       "      <td>NaN</td>\n",
       "      <td>NaN</td>\n",
       "      <td>114.00</td>\n",
       "      <td>NaN</td>\n",
       "    </tr>\n",
       "    <tr>\n",
       "      <th>max</th>\n",
       "      <td>2017.00</td>\n",
       "      <td>NaN</td>\n",
       "      <td>NaN</td>\n",
       "      <td>998.00</td>\n",
       "      <td>NaN</td>\n",
       "    </tr>\n",
       "  </tbody>\n",
       "</table>\n",
       "</div>"
      ],
      "text/plain": [
       "          year state   month  number                 date\n",
       "count  6422.00  6422    6422 6422.00                 6422\n",
       "unique     NaN    23      12     NaN                   20\n",
       "top        NaN   Rio  Agosto     NaN  2015-01-01 00:00:00\n",
       "freq       NaN   697     540     NaN                  324\n",
       "first      NaN   NaN     NaN     NaN  1998-01-01 00:00:00\n",
       "last       NaN   NaN     NaN     NaN  2017-01-01 00:00:00\n",
       "mean   2007.49   NaN     NaN  108.82                  NaN\n",
       "std       5.73   NaN     NaN  191.14                  NaN\n",
       "min    1998.00   NaN     NaN    0.00                  NaN\n",
       "25%    2003.00   NaN     NaN    3.00                  NaN\n",
       "50%    2007.00   NaN     NaN   24.50                  NaN\n",
       "75%    2012.00   NaN     NaN  114.00                  NaN\n",
       "max    2017.00   NaN     NaN  998.00                  NaN"
      ]
     },
     "execution_count": 126,
     "metadata": {},
     "output_type": "execute_result"
    }
   ],
   "source": [
    "df.describe(include ='all')"
   ]
  },
  {
   "cell_type": "markdown",
   "id": "659592c4",
   "metadata": {},
   "source": [
    "8. Rename Month Names To English\n"
   ]
  },
  {
   "cell_type": "code",
   "execution_count": 127,
   "id": "4ffa6f1c",
   "metadata": {},
   "outputs": [
    {
     "data": {
      "text/plain": [
       "array(['Janeiro', 'Fevereiro', 'Março', 'Abril', 'Maio', 'Junho', 'Julho',\n",
       "       'Agosto', 'Setembro', 'Outubro', 'Novembro', 'Dezembro'],\n",
       "      dtype=object)"
      ]
     },
     "execution_count": 127,
     "metadata": {},
     "output_type": "execute_result"
    }
   ],
   "source": [
    "df['month'].unique()"
   ]
  },
  {
   "cell_type": "code",
   "execution_count": 128,
   "id": "5eaea955",
   "metadata": {},
   "outputs": [
    {
     "data": {
      "text/html": [
       "<div>\n",
       "<style scoped>\n",
       "    .dataframe tbody tr th:only-of-type {\n",
       "        vertical-align: middle;\n",
       "    }\n",
       "\n",
       "    .dataframe tbody tr th {\n",
       "        vertical-align: top;\n",
       "    }\n",
       "\n",
       "    .dataframe thead th {\n",
       "        text-align: right;\n",
       "    }\n",
       "</style>\n",
       "<table border=\"1\" class=\"dataframe\">\n",
       "  <thead>\n",
       "    <tr style=\"text-align: right;\">\n",
       "      <th></th>\n",
       "      <th>year</th>\n",
       "      <th>state</th>\n",
       "      <th>month</th>\n",
       "      <th>number</th>\n",
       "      <th>date</th>\n",
       "    </tr>\n",
       "  </thead>\n",
       "  <tbody>\n",
       "    <tr>\n",
       "      <th>0</th>\n",
       "      <td>1998</td>\n",
       "      <td>Acre</td>\n",
       "      <td>Janeiro</td>\n",
       "      <td>0.00</td>\n",
       "      <td>1998-01-01</td>\n",
       "    </tr>\n",
       "    <tr>\n",
       "      <th>1</th>\n",
       "      <td>1999</td>\n",
       "      <td>Acre</td>\n",
       "      <td>Janeiro</td>\n",
       "      <td>0.00</td>\n",
       "      <td>1999-01-01</td>\n",
       "    </tr>\n",
       "    <tr>\n",
       "      <th>2</th>\n",
       "      <td>2000</td>\n",
       "      <td>Acre</td>\n",
       "      <td>Janeiro</td>\n",
       "      <td>0.00</td>\n",
       "      <td>2000-01-01</td>\n",
       "    </tr>\n",
       "    <tr>\n",
       "      <th>3</th>\n",
       "      <td>2001</td>\n",
       "      <td>Acre</td>\n",
       "      <td>Janeiro</td>\n",
       "      <td>0.00</td>\n",
       "      <td>2001-01-01</td>\n",
       "    </tr>\n",
       "    <tr>\n",
       "      <th>4</th>\n",
       "      <td>2002</td>\n",
       "      <td>Acre</td>\n",
       "      <td>Janeiro</td>\n",
       "      <td>0.00</td>\n",
       "      <td>2002-01-01</td>\n",
       "    </tr>\n",
       "  </tbody>\n",
       "</table>\n",
       "</div>"
      ],
      "text/plain": [
       "   year state    month  number       date\n",
       "0  1998  Acre  Janeiro    0.00 1998-01-01\n",
       "1  1999  Acre  Janeiro    0.00 1999-01-01\n",
       "2  2000  Acre  Janeiro    0.00 2000-01-01\n",
       "3  2001  Acre  Janeiro    0.00 2001-01-01\n",
       "4  2002  Acre  Janeiro    0.00 2002-01-01"
      ]
     },
     "execution_count": 128,
     "metadata": {},
     "output_type": "execute_result"
    }
   ],
   "source": [
    "df.head()"
   ]
  },
  {
   "cell_type": "code",
   "execution_count": 129,
   "id": "823248bf",
   "metadata": {},
   "outputs": [],
   "source": [
    "df['new_month']=df['month'].map({'Janeiro':'jan','Fevereiro':'feb', 'Março':'mar','Abril':'april','Maio':'may', 'Junho':'june', 'Julho':'july',\n",
    "       'Agosto':'aug', 'Setembro':'sep', 'Outubro':'oct', 'Novembro':'nov', 'Dezembro':'dec'})"
   ]
  },
  {
   "cell_type": "markdown",
   "id": "15bd0ee0",
   "metadata": {},
   "source": [
    "9. Total Number of Fires Registered\n"
   ]
  },
  {
   "cell_type": "code",
   "execution_count": 130,
   "id": "840168a3",
   "metadata": {},
   "outputs": [
    {
     "data": {
      "text/plain": [
       "Index(['year', 'state', 'month', 'number', 'date', 'new_month'], dtype='object')"
      ]
     },
     "execution_count": 130,
     "metadata": {},
     "output_type": "execute_result"
    }
   ],
   "source": [
    "df.columns"
   ]
  },
  {
   "cell_type": "code",
   "execution_count": 131,
   "id": "b7b1920d",
   "metadata": {},
   "outputs": [
    {
     "data": {
      "text/plain": [
       "6422"
      ]
     },
     "execution_count": 131,
     "metadata": {},
     "output_type": "execute_result"
    }
   ],
   "source": [
    "df['number'].count()"
   ]
  },
  {
   "cell_type": "code",
   "execution_count": 132,
   "id": "2832e7f0",
   "metadata": {},
   "outputs": [
    {
     "data": {
      "text/plain": [
       "698811.073"
      ]
     },
     "execution_count": 132,
     "metadata": {},
     "output_type": "execute_result"
    }
   ],
   "source": [
    "df['number'].sum()"
   ]
  },
  {
   "cell_type": "markdown",
   "id": "ae1969b5",
   "metadata": {},
   "source": [
    "10. In Which Month Maximum Number of Forest Fires Were Reported?\n"
   ]
  },
  {
   "cell_type": "code",
   "execution_count": 133,
   "id": "bba7c40d",
   "metadata": {},
   "outputs": [
    {
     "data": {
      "text/plain": [
       "month\n",
       "Setembro    998.00\n",
       "Agosto      995.00\n",
       "Novembro    995.00\n",
       "Julho       989.00\n",
       "Junho       979.00\n",
       "Outubro     964.00\n",
       "Janeiro     960.00\n",
       "Dezembro    956.00\n",
       "Abril       947.00\n",
       "Maio        942.00\n",
       "Fevereiro   871.00\n",
       "Março       820.00\n",
       "Name: number, dtype: float64"
      ]
     },
     "execution_count": 133,
     "metadata": {},
     "output_type": "execute_result"
    }
   ],
   "source": [
    "(df.groupby(\"month\")['number'].max()).sort_values(ascending =False) #wrong"
   ]
  },
  {
   "cell_type": "code",
   "execution_count": 134,
   "id": "65c9c176",
   "metadata": {},
   "outputs": [],
   "source": [
    "data1= df.groupby('month')['number'].sum().reset_index()"
   ]
  },
  {
   "cell_type": "code",
   "execution_count": 135,
   "id": "f7cbe2d9",
   "metadata": {},
   "outputs": [
    {
     "data": {
      "text/html": [
       "<div>\n",
       "<style scoped>\n",
       "    .dataframe tbody tr th:only-of-type {\n",
       "        vertical-align: middle;\n",
       "    }\n",
       "\n",
       "    .dataframe tbody tr th {\n",
       "        vertical-align: top;\n",
       "    }\n",
       "\n",
       "    .dataframe thead th {\n",
       "        text-align: right;\n",
       "    }\n",
       "</style>\n",
       "<table border=\"1\" class=\"dataframe\">\n",
       "  <thead>\n",
       "    <tr style=\"text-align: right;\">\n",
       "      <th></th>\n",
       "      <th>month</th>\n",
       "      <th>number</th>\n",
       "    </tr>\n",
       "  </thead>\n",
       "  <tbody>\n",
       "    <tr>\n",
       "      <th>0</th>\n",
       "      <td>Abril</td>\n",
       "      <td>28184.77</td>\n",
       "    </tr>\n",
       "    <tr>\n",
       "      <th>1</th>\n",
       "      <td>Agosto</td>\n",
       "      <td>88050.43</td>\n",
       "    </tr>\n",
       "    <tr>\n",
       "      <th>2</th>\n",
       "      <td>Dezembro</td>\n",
       "      <td>57535.48</td>\n",
       "    </tr>\n",
       "    <tr>\n",
       "      <th>3</th>\n",
       "      <td>Fevereiro</td>\n",
       "      <td>30839.05</td>\n",
       "    </tr>\n",
       "    <tr>\n",
       "      <th>4</th>\n",
       "      <td>Janeiro</td>\n",
       "      <td>47681.84</td>\n",
       "    </tr>\n",
       "    <tr>\n",
       "      <th>5</th>\n",
       "      <td>Julho</td>\n",
       "      <td>92319.11</td>\n",
       "    </tr>\n",
       "    <tr>\n",
       "      <th>6</th>\n",
       "      <td>Junho</td>\n",
       "      <td>55997.68</td>\n",
       "    </tr>\n",
       "    <tr>\n",
       "      <th>7</th>\n",
       "      <td>Maio</td>\n",
       "      <td>34725.36</td>\n",
       "    </tr>\n",
       "    <tr>\n",
       "      <th>8</th>\n",
       "      <td>Março</td>\n",
       "      <td>30709.40</td>\n",
       "    </tr>\n",
       "    <tr>\n",
       "      <th>9</th>\n",
       "      <td>Novembro</td>\n",
       "      <td>85508.05</td>\n",
       "    </tr>\n",
       "    <tr>\n",
       "      <th>10</th>\n",
       "      <td>Outubro</td>\n",
       "      <td>88681.58</td>\n",
       "    </tr>\n",
       "    <tr>\n",
       "      <th>11</th>\n",
       "      <td>Setembro</td>\n",
       "      <td>58578.31</td>\n",
       "    </tr>\n",
       "  </tbody>\n",
       "</table>\n",
       "</div>"
      ],
      "text/plain": [
       "        month   number\n",
       "0       Abril 28184.77\n",
       "1      Agosto 88050.43\n",
       "2    Dezembro 57535.48\n",
       "3   Fevereiro 30839.05\n",
       "4     Janeiro 47681.84\n",
       "5       Julho 92319.11\n",
       "6       Junho 55997.68\n",
       "7        Maio 34725.36\n",
       "8       Março 30709.40\n",
       "9    Novembro 85508.05\n",
       "10    Outubro 88681.58\n",
       "11   Setembro 58578.31"
      ]
     },
     "execution_count": 135,
     "metadata": {},
     "output_type": "execute_result"
    }
   ],
   "source": [
    "data1"
   ]
  },
  {
   "cell_type": "code",
   "execution_count": 136,
   "id": "34e18df4",
   "metadata": {},
   "outputs": [
    {
     "data": {
      "image/png": "[encoded data removed]",
      "text/plain": [
       "<Figure size 1100x700 with 1 Axes>"
      ]
     },
     "metadata": {},
     "output_type": "display_data"
    }
   ],
   "source": [
    "plt.figure(figsize=(11,7))\n",
    "plt.title(\"Forest fire by month\")\n",
    "sns.barplot(x='month',y ='number',data=data1);\n"
   ]
  },
  {
   "cell_type": "markdown",
   "id": "27041706",
   "metadata": {},
   "source": [
    "11. In Which Year Maximum Number of Forest Fires Was Reported?\n"
   ]
  },
  {
   "cell_type": "code",
   "execution_count": 137,
   "id": "e1ee03b5",
   "metadata": {},
   "outputs": [],
   "source": [
    "\n",
    "data1= df.groupby('year')['number'].sum().reset_index()"
   ]
  },
  {
   "cell_type": "markdown",
   "id": "db65fbd3",
   "metadata": {},
   "source": [
    "12. In Which State Maximum Number of Forest Fires Was Reported?\n"
   ]
  },
  {
   "cell_type": "code",
   "execution_count": 138,
   "id": "c110970a",
   "metadata": {},
   "outputs": [
    {
     "data": {
      "text/html": [
       "<div>\n",
       "<style scoped>\n",
       "    .dataframe tbody tr th:only-of-type {\n",
       "        vertical-align: middle;\n",
       "    }\n",
       "\n",
       "    .dataframe tbody tr th {\n",
       "        vertical-align: top;\n",
       "    }\n",
       "\n",
       "    .dataframe thead th {\n",
       "        text-align: right;\n",
       "    }\n",
       "</style>\n",
       "<table border=\"1\" class=\"dataframe\">\n",
       "  <thead>\n",
       "    <tr style=\"text-align: right;\">\n",
       "      <th></th>\n",
       "      <th>state</th>\n",
       "      <th>number</th>\n",
       "    </tr>\n",
       "  </thead>\n",
       "  <tbody>\n",
       "    <tr>\n",
       "      <th>0</th>\n",
       "      <td>Acre</td>\n",
       "      <td>18464.03</td>\n",
       "    </tr>\n",
       "    <tr>\n",
       "      <th>1</th>\n",
       "      <td>Alagoas</td>\n",
       "      <td>4606.00</td>\n",
       "    </tr>\n",
       "    <tr>\n",
       "      <th>2</th>\n",
       "      <td>Amapa</td>\n",
       "      <td>21831.58</td>\n",
       "    </tr>\n",
       "    <tr>\n",
       "      <th>3</th>\n",
       "      <td>Amazonas</td>\n",
       "      <td>30650.13</td>\n",
       "    </tr>\n",
       "    <tr>\n",
       "      <th>4</th>\n",
       "      <td>Bahia</td>\n",
       "      <td>44746.23</td>\n",
       "    </tr>\n",
       "    <tr>\n",
       "      <th>5</th>\n",
       "      <td>Ceara</td>\n",
       "      <td>30428.06</td>\n",
       "    </tr>\n",
       "    <tr>\n",
       "      <th>6</th>\n",
       "      <td>Distrito Federal</td>\n",
       "      <td>3561.00</td>\n",
       "    </tr>\n",
       "    <tr>\n",
       "      <th>7</th>\n",
       "      <td>Espirito Santo</td>\n",
       "      <td>6546.00</td>\n",
       "    </tr>\n",
       "    <tr>\n",
       "      <th>8</th>\n",
       "      <td>Goias</td>\n",
       "      <td>37695.52</td>\n",
       "    </tr>\n",
       "    <tr>\n",
       "      <th>9</th>\n",
       "      <td>Maranhao</td>\n",
       "      <td>25129.13</td>\n",
       "    </tr>\n",
       "    <tr>\n",
       "      <th>10</th>\n",
       "      <td>Mato Grosso</td>\n",
       "      <td>96246.03</td>\n",
       "    </tr>\n",
       "    <tr>\n",
       "      <th>11</th>\n",
       "      <td>Minas Gerais</td>\n",
       "      <td>37475.26</td>\n",
       "    </tr>\n",
       "    <tr>\n",
       "      <th>12</th>\n",
       "      <td>Paraiba</td>\n",
       "      <td>52426.92</td>\n",
       "    </tr>\n",
       "    <tr>\n",
       "      <th>13</th>\n",
       "      <td>Pará</td>\n",
       "      <td>24512.14</td>\n",
       "    </tr>\n",
       "    <tr>\n",
       "      <th>14</th>\n",
       "      <td>Pernambuco</td>\n",
       "      <td>24498.00</td>\n",
       "    </tr>\n",
       "    <tr>\n",
       "      <th>15</th>\n",
       "      <td>Piau</td>\n",
       "      <td>37803.75</td>\n",
       "    </tr>\n",
       "    <tr>\n",
       "      <th>16</th>\n",
       "      <td>Rio</td>\n",
       "      <td>45094.86</td>\n",
       "    </tr>\n",
       "    <tr>\n",
       "      <th>17</th>\n",
       "      <td>Rondonia</td>\n",
       "      <td>20285.43</td>\n",
       "    </tr>\n",
       "    <tr>\n",
       "      <th>18</th>\n",
       "      <td>Roraima</td>\n",
       "      <td>24385.07</td>\n",
       "    </tr>\n",
       "    <tr>\n",
       "      <th>19</th>\n",
       "      <td>Santa Catarina</td>\n",
       "      <td>24359.85</td>\n",
       "    </tr>\n",
       "    <tr>\n",
       "      <th>20</th>\n",
       "      <td>Sao Paulo</td>\n",
       "      <td>51121.20</td>\n",
       "    </tr>\n",
       "    <tr>\n",
       "      <th>21</th>\n",
       "      <td>Sergipe</td>\n",
       "      <td>3237.00</td>\n",
       "    </tr>\n",
       "    <tr>\n",
       "      <th>22</th>\n",
       "      <td>Tocantins</td>\n",
       "      <td>33707.89</td>\n",
       "    </tr>\n",
       "  </tbody>\n",
       "</table>\n",
       "</div>"
      ],
      "text/plain": [
       "               state   number\n",
       "0               Acre 18464.03\n",
       "1            Alagoas  4606.00\n",
       "2              Amapa 21831.58\n",
       "3           Amazonas 30650.13\n",
       "4              Bahia 44746.23\n",
       "5              Ceara 30428.06\n",
       "6   Distrito Federal  3561.00\n",
       "7     Espirito Santo  6546.00\n",
       "8              Goias 37695.52\n",
       "9           Maranhao 25129.13\n",
       "10       Mato Grosso 96246.03\n",
       "11      Minas Gerais 37475.26\n",
       "12           Paraiba 52426.92\n",
       "13              Pará 24512.14\n",
       "14        Pernambuco 24498.00\n",
       "15              Piau 37803.75\n",
       "16               Rio 45094.86\n",
       "17          Rondonia 20285.43\n",
       "18           Roraima 24385.07\n",
       "19    Santa Catarina 24359.85\n",
       "20         Sao Paulo 51121.20\n",
       "21           Sergipe  3237.00\n",
       "22         Tocantins 33707.89"
      ]
     },
     "execution_count": 138,
     "metadata": {},
     "output_type": "execute_result"
    }
   ],
   "source": [
    "data2= df.groupby('state')['number'].sum().reset_index()\n",
    "data2"
   ]
  },
  {
   "cell_type": "code",
   "execution_count": 139,
   "id": "7ab8b4b0",
   "metadata": {},
   "outputs": [
    {
     "data": {
      "text/plain": [
       "<Axes: title={'center': 'Forest fire by states'}, xlabel='number', ylabel='state'>"
      ]
     },
     "execution_count": 139,
     "metadata": {},
     "output_type": "execute_result"
    },
    {
     "data": {
      "image/png": "[encoded data removed]",
      "text/plain": [
       "<Figure size 640x480 with 1 Axes>"
      ]
     },
     "metadata": {},
     "output_type": "display_data"
    }
   ],
   "source": [
    "plt.title('Forest fire by states')\n",
    "sns.barplot(y='state',x='number',data =data2)"
   ]
  },
  {
   "cell_type": "markdown",
   "id": "82f93599",
   "metadata": {},
   "source": [
    "13. Find Total Number of Fires Were Reported In Amazonas\n"
   ]
  },
  {
   "cell_type": "code",
   "execution_count": 140,
   "id": "fe76a221",
   "metadata": {},
   "outputs": [
    {
     "data": {
      "text/plain": [
       "30650.129"
      ]
     },
     "execution_count": 140,
     "metadata": {},
     "output_type": "execute_result"
    }
   ],
   "source": [
    "df[df['state']==\"Amazonas\"]['number'].sum()"
   ]
  },
  {
   "cell_type": "code",
   "execution_count": 141,
   "id": "259af40c",
   "metadata": {},
   "outputs": [
    {
     "data": {
      "text/plain": [
       "<Axes: xlabel='count', ylabel='state'>"
      ]
     },
     "execution_count": 141,
     "metadata": {},
     "output_type": "execute_result"
    },
    {
     "data": {
      "image/png": "[encoded data removed]",
      "text/plain": [
       "<Figure size 640x480 with 1 Axes>"
      ]
     },
     "metadata": {},
     "output_type": "display_data"
    }
   ],
   "source": [
    "sns.countplot(y='state',data =df)"
   ]
  },
  {
   "cell_type": "markdown",
   "id": "739172e7",
   "metadata": {},
   "source": [
    "14. Display Number of Fires Were Reported In Amazonas (Year-Wise)\n"
   ]
  },
  {
   "cell_type": "code",
   "execution_count": 142,
   "id": "723780e8",
   "metadata": {},
   "outputs": [],
   "source": [
    "data3 =df[df['state']=='Amazonas']"
   ]
  },
  {
   "cell_type": "code",
   "execution_count": 143,
   "id": "51c419dc",
   "metadata": {},
   "outputs": [
    {
     "data": {
      "text/html": [
       "<div>\n",
       "<style scoped>\n",
       "    .dataframe tbody tr th:only-of-type {\n",
       "        vertical-align: middle;\n",
       "    }\n",
       "\n",
       "    .dataframe tbody tr th {\n",
       "        vertical-align: top;\n",
       "    }\n",
       "\n",
       "    .dataframe thead th {\n",
       "        text-align: right;\n",
       "    }\n",
       "</style>\n",
       "<table border=\"1\" class=\"dataframe\">\n",
       "  <thead>\n",
       "    <tr style=\"text-align: right;\">\n",
       "      <th></th>\n",
       "      <th>year</th>\n",
       "      <th>number</th>\n",
       "    </tr>\n",
       "  </thead>\n",
       "  <tbody>\n",
       "    <tr>\n",
       "      <th>0</th>\n",
       "      <td>1998</td>\n",
       "      <td>946.00</td>\n",
       "    </tr>\n",
       "    <tr>\n",
       "      <th>1</th>\n",
       "      <td>1999</td>\n",
       "      <td>1061.00</td>\n",
       "    </tr>\n",
       "    <tr>\n",
       "      <th>2</th>\n",
       "      <td>2000</td>\n",
       "      <td>853.00</td>\n",
       "    </tr>\n",
       "    <tr>\n",
       "      <th>3</th>\n",
       "      <td>2001</td>\n",
       "      <td>1297.00</td>\n",
       "    </tr>\n",
       "    <tr>\n",
       "      <th>4</th>\n",
       "      <td>2002</td>\n",
       "      <td>2852.00</td>\n",
       "    </tr>\n",
       "    <tr>\n",
       "      <th>5</th>\n",
       "      <td>2003</td>\n",
       "      <td>1524.27</td>\n",
       "    </tr>\n",
       "    <tr>\n",
       "      <th>6</th>\n",
       "      <td>2004</td>\n",
       "      <td>2298.21</td>\n",
       "    </tr>\n",
       "    <tr>\n",
       "      <th>7</th>\n",
       "      <td>2005</td>\n",
       "      <td>1657.13</td>\n",
       "    </tr>\n",
       "    <tr>\n",
       "      <th>8</th>\n",
       "      <td>2006</td>\n",
       "      <td>997.64</td>\n",
       "    </tr>\n",
       "    <tr>\n",
       "      <th>9</th>\n",
       "      <td>2007</td>\n",
       "      <td>589.60</td>\n",
       "    </tr>\n",
       "    <tr>\n",
       "      <th>10</th>\n",
       "      <td>2008</td>\n",
       "      <td>2717.00</td>\n",
       "    </tr>\n",
       "    <tr>\n",
       "      <th>11</th>\n",
       "      <td>2009</td>\n",
       "      <td>1320.60</td>\n",
       "    </tr>\n",
       "    <tr>\n",
       "      <th>12</th>\n",
       "      <td>2010</td>\n",
       "      <td>2324.51</td>\n",
       "    </tr>\n",
       "    <tr>\n",
       "      <th>13</th>\n",
       "      <td>2011</td>\n",
       "      <td>1652.54</td>\n",
       "    </tr>\n",
       "    <tr>\n",
       "      <th>14</th>\n",
       "      <td>2012</td>\n",
       "      <td>1110.64</td>\n",
       "    </tr>\n",
       "    <tr>\n",
       "      <th>15</th>\n",
       "      <td>2013</td>\n",
       "      <td>905.22</td>\n",
       "    </tr>\n",
       "    <tr>\n",
       "      <th>16</th>\n",
       "      <td>2014</td>\n",
       "      <td>2385.91</td>\n",
       "    </tr>\n",
       "    <tr>\n",
       "      <th>17</th>\n",
       "      <td>2015</td>\n",
       "      <td>1189.99</td>\n",
       "    </tr>\n",
       "    <tr>\n",
       "      <th>18</th>\n",
       "      <td>2016</td>\n",
       "      <td>2060.97</td>\n",
       "    </tr>\n",
       "    <tr>\n",
       "      <th>19</th>\n",
       "      <td>2017</td>\n",
       "      <td>906.90</td>\n",
       "    </tr>\n",
       "  </tbody>\n",
       "</table>\n",
       "</div>"
      ],
      "text/plain": [
       "    year  number\n",
       "0   1998  946.00\n",
       "1   1999 1061.00\n",
       "2   2000  853.00\n",
       "3   2001 1297.00\n",
       "4   2002 2852.00\n",
       "5   2003 1524.27\n",
       "6   2004 2298.21\n",
       "7   2005 1657.13\n",
       "8   2006  997.64\n",
       "9   2007  589.60\n",
       "10  2008 2717.00\n",
       "11  2009 1320.60\n",
       "12  2010 2324.51\n",
       "13  2011 1652.54\n",
       "14  2012 1110.64\n",
       "15  2013  905.22\n",
       "16  2014 2385.91\n",
       "17  2015 1189.99\n",
       "18  2016 2060.97\n",
       "19  2017  906.90"
      ]
     },
     "execution_count": 143,
     "metadata": {},
     "output_type": "execute_result"
    }
   ],
   "source": [
    "data4=data3.groupby('year')['number'].sum().reset_index()\n",
    "data4"
   ]
  },
  {
   "cell_type": "code",
   "execution_count": 144,
   "id": "a3a66078",
   "metadata": {},
   "outputs": [
    {
     "data": {
      "text/plain": [
       "<Axes: xlabel='year', ylabel='number'>"
      ]
     },
     "execution_count": 144,
     "metadata": {},
     "output_type": "execute_result"
    },
    {
     "data": {
      "image/png": "[encoded data removed]",
      "text/plain": [
       "<Figure size 1000x700 with 1 Axes>"
      ]
     },
     "metadata": {},
     "output_type": "display_data"
    }
   ],
   "source": [
    "plt.figure(figsize=(10,7))\n",
    "sns.barplot(x='year',y='number',data=data4)"
   ]
  },
  {
   "cell_type": "markdown",
   "id": "f0c6d778",
   "metadata": {},
   "source": [
    "15. Display Number of Fires Were Reported In Amazonas (Day-Wise)\n"
   ]
  },
  {
   "cell_type": "code",
   "execution_count": 145,
   "id": "fd9e6c4d",
   "metadata": {},
   "outputs": [
    {
     "data": {
      "text/plain": [
       "Index(['year', 'state', 'month', 'number', 'date', 'new_month'], dtype='object')"
      ]
     },
     "execution_count": 145,
     "metadata": {},
     "output_type": "execute_result"
    }
   ],
   "source": [
    "df.columns"
   ]
  },
  {
   "cell_type": "markdown",
   "id": "00f8b2fd",
   "metadata": {},
   "source": [
    "data5=data3.groupby('date')['number'].sum().reset_index()\n",
    "data5\n",
    "sns.barplot(y='date',x='number',data =data5)#wrong"
   ]
  },
  {
   "cell_type": "code",
   "execution_count": 146,
   "id": "4dcbe3d0",
   "metadata": {},
   "outputs": [
    {
     "name": "stderr",
     "output_type": "stream",
     "text": [
      "C:\\Users\\DELL\\AppData\\Local\\Temp\\ipykernel_6112\\1662553480.py:1: FutureWarning: The default value of numeric_only in DataFrameGroupBy.sum is deprecated. In a future version, numeric_only will default to False. Either specify numeric_only or select only columns which should be valid for the function.\n",
      "  y=data3.groupby(data3['date'].dt.dayofweek).sum().number\n"
     ]
    }
   ],
   "source": [
    "y=data3.groupby(data3['date'].dt.dayofweek).sum().number\n"
   ]
  },
  {
   "cell_type": "code",
   "execution_count": 147,
   "id": "00db6136",
   "metadata": {},
   "outputs": [
    {
     "data": {
      "text/plain": [
       "['Monday', 'Tuesday', 'Wednesday', 'Thursday', 'Friday', 'Saturday', 'Sunday']"
      ]
     },
     "execution_count": 147,
     "metadata": {},
     "output_type": "execute_result"
    }
   ],
   "source": [
    "import calendar\n",
    "day= [calendar.day_name[x] for x in range(0, 7)]\n",
    "day"
   ]
  },
  {
   "cell_type": "code",
   "execution_count": null,
   "id": "f8ee6083",
   "metadata": {},
   "outputs": [],
   "source": []
  },
  {
   "cell_type": "code",
   "execution_count": 148,
   "id": "00dcf2a9",
   "metadata": {},
   "outputs": [
    {
     "name": "stdout",
     "output_type": "stream",
     "text": [
      "      year      state     month  number       date new_month\n",
      "0     1998       Acre   Janeiro    0.00 1998-01-01       jan\n",
      "1     1999       Acre   Janeiro    0.00 1999-01-01       jan\n",
      "2     2000       Acre   Janeiro    0.00 2000-01-01       jan\n",
      "3     2001       Acre   Janeiro    0.00 2001-01-01       jan\n",
      "4     2002       Acre   Janeiro    0.00 2002-01-01       jan\n",
      "...    ...        ...       ...     ...        ...       ...\n",
      "6449  2012  Tocantins  Dezembro  128.00 2012-01-01       dec\n",
      "6450  2013  Tocantins  Dezembro   85.00 2013-01-01       dec\n",
      "6451  2014  Tocantins  Dezembro  223.00 2014-01-01       dec\n",
      "6452  2015  Tocantins  Dezembro  373.00 2015-01-01       dec\n",
      "6453  2016  Tocantins  Dezembro  119.00 2016-01-01       dec\n",
      "\n",
      "[6422 rows x 6 columns]\n"
     ]
    }
   ],
   "source": [
    "import pandas as pd\n",
    "\n",
    "data = {\n",
    "    'Day': ['Monday', 'Tuesday', 'Wednesday', 'Thursday', 'Friday', 'Saturday', 'Sunday'],\n",
    "    'Value': [1886.601, 6474.217, 3910.177, 5754.802, 5446.48, 4162.666, 3015.186]\n",
    "}\n",
    "day_fire = pd.DataFrame(data)\n",
    "\n",
    "print(df)\n"
   ]
  },
  {
   "cell_type": "code",
   "execution_count": 149,
   "id": "bffc8c8e",
   "metadata": {},
   "outputs": [
    {
     "data": {
      "text/plain": [
       "<Axes: xlabel='Day', ylabel='Value'>"
      ]
     },
     "execution_count": 149,
     "metadata": {},
     "output_type": "execute_result"
    },
    {
     "data": {
      "image/png": "[encoded data removed]",
      "text/plain": [
       "<Figure size 640x480 with 1 Axes>"
      ]
     },
     "metadata": {},
     "output_type": "display_data"
    }
   ],
   "source": [
    "sns.barplot(x='Day',y='Value',data=day_fire)"
   ]
  },
  {
   "cell_type": "markdown",
   "id": "582424af",
   "metadata": {},
   "source": [
    "16. Find Total Number of Fires  Were Reported In 2015 And Visualize Data Based on Each ‘Month’\n"
   ]
  },
  {
   "cell_type": "code",
   "execution_count": 158,
   "id": "c08dc911",
   "metadata": {},
   "outputs": [
    {
     "data": {
      "text/html": [
       "<div>\n",
       "<style scoped>\n",
       "    .dataframe tbody tr th:only-of-type {\n",
       "        vertical-align: middle;\n",
       "    }\n",
       "\n",
       "    .dataframe tbody tr th {\n",
       "        vertical-align: top;\n",
       "    }\n",
       "\n",
       "    .dataframe thead th {\n",
       "        text-align: right;\n",
       "    }\n",
       "</style>\n",
       "<table border=\"1\" class=\"dataframe\">\n",
       "  <thead>\n",
       "    <tr style=\"text-align: right;\">\n",
       "      <th></th>\n",
       "      <th>new_month</th>\n",
       "      <th>number</th>\n",
       "    </tr>\n",
       "  </thead>\n",
       "  <tbody>\n",
       "    <tr>\n",
       "      <th>0</th>\n",
       "      <td>april</td>\n",
       "      <td>2573.00</td>\n",
       "    </tr>\n",
       "    <tr>\n",
       "      <th>1</th>\n",
       "      <td>aug</td>\n",
       "      <td>4363.12</td>\n",
       "    </tr>\n",
       "    <tr>\n",
       "      <th>2</th>\n",
       "      <td>dec</td>\n",
       "      <td>4088.52</td>\n",
       "    </tr>\n",
       "    <tr>\n",
       "      <th>3</th>\n",
       "      <td>feb</td>\n",
       "      <td>2309.00</td>\n",
       "    </tr>\n",
       "    <tr>\n",
       "      <th>4</th>\n",
       "      <td>jan</td>\n",
       "      <td>4635.00</td>\n",
       "    </tr>\n",
       "    <tr>\n",
       "      <th>5</th>\n",
       "      <td>july</td>\n",
       "      <td>4364.39</td>\n",
       "    </tr>\n",
       "    <tr>\n",
       "      <th>6</th>\n",
       "      <td>june</td>\n",
       "      <td>3260.55</td>\n",
       "    </tr>\n",
       "    <tr>\n",
       "      <th>7</th>\n",
       "      <td>mar</td>\n",
       "      <td>2202.00</td>\n",
       "    </tr>\n",
       "    <tr>\n",
       "      <th>8</th>\n",
       "      <td>may</td>\n",
       "      <td>2384.00</td>\n",
       "    </tr>\n",
       "    <tr>\n",
       "      <th>9</th>\n",
       "      <td>nov</td>\n",
       "      <td>4034.52</td>\n",
       "    </tr>\n",
       "    <tr>\n",
       "      <th>10</th>\n",
       "      <td>oct</td>\n",
       "      <td>4499.52</td>\n",
       "    </tr>\n",
       "    <tr>\n",
       "      <th>11</th>\n",
       "      <td>sep</td>\n",
       "      <td>2494.66</td>\n",
       "    </tr>\n",
       "  </tbody>\n",
       "</table>\n",
       "</div>"
      ],
      "text/plain": [
       "   new_month  number\n",
       "0      april 2573.00\n",
       "1        aug 4363.12\n",
       "2        dec 4088.52\n",
       "3        feb 2309.00\n",
       "4        jan 4635.00\n",
       "5       july 4364.39\n",
       "6       june 3260.55\n",
       "7        mar 2202.00\n",
       "8        may 2384.00\n",
       "9        nov 4034.52\n",
       "10       oct 4499.52\n",
       "11       sep 2494.66"
      ]
     },
     "execution_count": 158,
     "metadata": {},
     "output_type": "execute_result"
    }
   ],
   "source": [
    "fire_month=df[df['year']==2015]\n",
    "data6=fire_month.groupby('new_month')['number'].sum().reset_index()\n",
    "data6"
   ]
  },
  {
   "cell_type": "code",
   "execution_count": 160,
   "id": "5adb8bb3",
   "metadata": {},
   "outputs": [
    {
     "data": {
      "text/plain": [
       "<Axes: xlabel='new_month', ylabel='number'>"
      ]
     },
     "execution_count": 160,
     "metadata": {},
     "output_type": "execute_result"
    },
    {
     "data": {
      "image/png": "[encoded data removed]",
      "text/plain": [
       "<Figure size 640x480 with 1 Axes>"
      ]
     },
     "metadata": {},
     "output_type": "display_data"
    }
   ],
   "source": [
    "sns.barplot(x='new_month',y='number',data=data6)"
   ]
  },
  {
   "cell_type": "code",
   "execution_count": null,
   "id": "662b95d8",
   "metadata": {},
   "outputs": [],
   "source": []
  },
  {
   "cell_type": "markdown",
   "id": "373c26f4",
   "metadata": {},
   "source": [
    "17. Find Average Number of Fires Were Reported From Highest to Lowest (State-Wise)\n",
    "\n"
   ]
  },
  {
   "cell_type": "code",
   "execution_count": 165,
   "id": "503985ae",
   "metadata": {},
   "outputs": [],
   "source": [
    "data7=df.groupby('state')['number'].mean().sort_values(ascending=False).reset_index()"
   ]
  },
  {
   "cell_type": "code",
   "execution_count": 166,
   "id": "c9d279e8",
   "metadata": {},
   "outputs": [
    {
     "data": {
      "text/plain": [
       "<Axes: xlabel='number', ylabel='state'>"
      ]
     },
     "execution_count": 166,
     "metadata": {},
     "output_type": "execute_result"
    },
    {
     "data": {
      "image/png": "[encoded data removed]",
      "text/plain": [
       "<Figure size 640x480 with 1 Axes>"
      ]
     },
     "metadata": {},
     "output_type": "display_data"
    }
   ],
   "source": [
    "sns.barplot(y='state',x='number',data=data7)"
   ]
  },
  {
   "cell_type": "markdown",
   "id": "7922cc5f",
   "metadata": {},
   "source": [
    "18.  To Find The State Names Where Fires Were Reported In 'dec' Month"
   ]
  },
  {
   "cell_type": "code",
   "execution_count": 170,
   "id": "c4a86c9b",
   "metadata": {},
   "outputs": [],
   "source": [
    "data8=df[df['new_month']=='dec']['state']"
   ]
  },
  {
   "cell_type": "code",
   "execution_count": 172,
   "id": "3cde4acf",
   "metadata": {},
   "outputs": [
    {
     "data": {
      "text/plain": [
       "array(['Acre', 'Alagoas', 'Amapa', 'Amazonas', 'Bahia', 'Ceara',\n",
       "       'Distrito Federal', 'Espirito Santo', 'Goias', 'Maranhao',\n",
       "       'Mato Grosso', 'Minas Gerais', 'Pará', 'Paraiba', 'Pernambuco',\n",
       "       'Piau', 'Rio', 'Rondonia', 'Roraima', 'Santa Catarina',\n",
       "       'Sao Paulo', 'Sergipe', 'Tocantins'], dtype=object)"
      ]
     },
     "execution_count": 172,
     "metadata": {},
     "output_type": "execute_result"
    }
   ],
   "source": [
    "data8.unique()\n"
   ]
  },
  {
   "cell_type": "code",
   "execution_count": null,
   "id": "940911ef",
   "metadata": {},
   "outputs": [],
   "source": []
  }
 ],
 "metadata": {
  "kernelspec": {
   "display_name": "Python 3 (ipykernel)",
   "language": "python",
   "name": "python3"
  },
  "language_info": {
   "codemirror_mode": {
    "name": "ipython",
    "version": 3
   },
   "file_extension": ".py",
   "mimetype": "text/x-python",
   "name": "python",
   "nbconvert_exporter": "python",
   "pygments_lexer": "ipython3",
   "version": "3.11.5"
  }
 },
 "nbformat": 4,
 "nbformat_minor": 5
}
