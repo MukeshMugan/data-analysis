{
 "cells": [
  {
   "cell_type": "markdown",
   "id": "4455e4aa",
   "metadata": {},
   "source": [
    "# Data Analysis"
   ]
  },
  {
   "cell_type": "markdown",
   "id": "d4cc0078",
   "metadata": {},
   "source": [
    "###                                                     INTERNSHIP  PROGRAM"
   ]
  },
  {
   "cell_type": "code",
   "execution_count": 46,
   "id": "62e07839",
   "metadata": {},
   "outputs": [],
   "source": [
    "import pandas as pd\n",
    "import os \n",
    "import numpy as np\n",
    "import seaborn as sns\n",
    "import matplotlib.pyplot as plt\n",
    "import warnings\n",
    "\n",
    "warnings.filterwarnings('ignore')\n"
   ]
  },
  {
   "cell_type": "code",
   "execution_count": 47,
   "id": "ed2f0465",
   "metadata": {},
   "outputs": [
    {
     "data": {
      "text/plain": [
       "['.ipynb_checkpoints',\n",
       " 'adult.csv',\n",
       " 'amazon.csv',\n",
       " 'countries of the world.csv',\n",
       " 'Customer Call List.xlsx',\n",
       " 'Dataset .csv',\n",
       " 'Dataset.csv',\n",
       " 'download.png',\n",
       " 'Ecommerce Purchases.csv',\n",
       " 'Flavors.csv',\n",
       " 'googleplaystore.csv',\n",
       " 'heart.csv',\n",
       " 'Ice Cream Ratings.csv',\n",
       " 'IMDB-Movie-Data.csv',\n",
       " 'laptop_pricing_dataset_base.csv',\n",
       " 'List of the Countries and Territories.csv',\n",
       " 'LOTR 2.csv',\n",
       " 'LOTR.csv',\n",
       " 'Salaries.csv',\n",
       " 'shopping_trends.csv',\n",
       " 'supermarket_sales - Sheet1.csv',\n",
       " 'superstore_dataset2011-2015.csv',\n",
       " 'top-5000-youtube-channels.csv',\n",
       " 'train.csv',\n",
       " 'udemy_courses.csv',\n",
       " 'world.csv']"
      ]
     },
     "execution_count": 47,
     "metadata": {},
     "output_type": "execute_result"
    }
   ],
   "source": [
    "os.listdir('data_sets')"
   ]
  },
  {
   "cell_type": "markdown",
   "id": "4dbcdc0d",
   "metadata": {},
   "source": [
    "## Reading the Dataset"
   ]
  },
  {
   "cell_type": "code",
   "execution_count": 48,
   "id": "7f7e89f1",
   "metadata": {},
   "outputs": [],
   "source": [
    "df=pd.read_csv('./data_sets/Dataset .csv',encoding='UTF-8')"
   ]
  },
  {
   "cell_type": "code",
   "execution_count": 49,
   "id": "96304dc6",
   "metadata": {},
   "outputs": [],
   "source": [
    "df['Restaurant Name'] = df['Restaurant Name'].apply(lambda x: x.encode('ascii', 'ignore').decode('ascii'))\n"
   ]
  },
  {
   "cell_type": "markdown",
   "id": "79edd9cb",
   "metadata": {},
   "source": [
    "## Exploratory Analysis"
   ]
  },
  {
   "cell_type": "code",
   "execution_count": 50,
   "id": "7d35f8c0",
   "metadata": {},
   "outputs": [
    {
     "data": {
      "text/html": [
       "<div>\n",
       "<style scoped>\n",
       "    .dataframe tbody tr th:only-of-type {\n",
       "        vertical-align: middle;\n",
       "    }\n",
       "\n",
       "    .dataframe tbody tr th {\n",
       "        vertical-align: top;\n",
       "    }\n",
       "\n",
       "    .dataframe thead th {\n",
       "        text-align: right;\n",
       "    }\n",
       "</style>\n",
       "<table border=\"1\" class=\"dataframe\">\n",
       "  <thead>\n",
       "    <tr style=\"text-align: right;\">\n",
       "      <th></th>\n",
       "      <th>Restaurant ID</th>\n",
       "      <th>Restaurant Name</th>\n",
       "      <th>Country Code</th>\n",
       "      <th>City</th>\n",
       "      <th>Address</th>\n",
       "      <th>Locality</th>\n",
       "      <th>Locality Verbose</th>\n",
       "      <th>Longitude</th>\n",
       "      <th>Latitude</th>\n",
       "      <th>Cuisines</th>\n",
       "      <th>...</th>\n",
       "      <th>Currency</th>\n",
       "      <th>Has Table booking</th>\n",
       "      <th>Has Online delivery</th>\n",
       "      <th>Is delivering now</th>\n",
       "      <th>Switch to order menu</th>\n",
       "      <th>Price range</th>\n",
       "      <th>Aggregate rating</th>\n",
       "      <th>Rating color</th>\n",
       "      <th>Rating text</th>\n",
       "      <th>Votes</th>\n",
       "    </tr>\n",
       "  </thead>\n",
       "  <tbody>\n",
       "    <tr>\n",
       "      <th>0</th>\n",
       "      <td>6317637</td>\n",
       "      <td>Le Petit Souffle</td>\n",
       "      <td>162</td>\n",
       "      <td>Makati City</td>\n",
       "      <td>Third Floor, Century City Mall, Kalayaan Avenu...</td>\n",
       "      <td>Century City Mall, Poblacion, Makati City</td>\n",
       "      <td>Century City Mall, Poblacion, Makati City, Mak...</td>\n",
       "      <td>121.03</td>\n",
       "      <td>14.57</td>\n",
       "      <td>French, Japanese, Desserts</td>\n",
       "      <td>...</td>\n",
       "      <td>Botswana Pula(P)</td>\n",
       "      <td>Yes</td>\n",
       "      <td>No</td>\n",
       "      <td>No</td>\n",
       "      <td>No</td>\n",
       "      <td>3</td>\n",
       "      <td>4.80</td>\n",
       "      <td>Dark Green</td>\n",
       "      <td>Excellent</td>\n",
       "      <td>314</td>\n",
       "    </tr>\n",
       "    <tr>\n",
       "      <th>1</th>\n",
       "      <td>6304287</td>\n",
       "      <td>Izakaya Kikufuji</td>\n",
       "      <td>162</td>\n",
       "      <td>Makati City</td>\n",
       "      <td>Little Tokyo, 2277 Chino Roces Avenue, Legaspi...</td>\n",
       "      <td>Little Tokyo, Legaspi Village, Makati City</td>\n",
       "      <td>Little Tokyo, Legaspi Village, Makati City, Ma...</td>\n",
       "      <td>121.01</td>\n",
       "      <td>14.55</td>\n",
       "      <td>Japanese</td>\n",
       "      <td>...</td>\n",
       "      <td>Botswana Pula(P)</td>\n",
       "      <td>Yes</td>\n",
       "      <td>No</td>\n",
       "      <td>No</td>\n",
       "      <td>No</td>\n",
       "      <td>3</td>\n",
       "      <td>4.50</td>\n",
       "      <td>Dark Green</td>\n",
       "      <td>Excellent</td>\n",
       "      <td>591</td>\n",
       "    </tr>\n",
       "    <tr>\n",
       "      <th>2</th>\n",
       "      <td>6300002</td>\n",
       "      <td>Heat - Edsa Shangri-La</td>\n",
       "      <td>162</td>\n",
       "      <td>Mandaluyong City</td>\n",
       "      <td>Edsa Shangri-La, 1 Garden Way, Ortigas, Mandal...</td>\n",
       "      <td>Edsa Shangri-La, Ortigas, Mandaluyong City</td>\n",
       "      <td>Edsa Shangri-La, Ortigas, Mandaluyong City, Ma...</td>\n",
       "      <td>121.06</td>\n",
       "      <td>14.58</td>\n",
       "      <td>Seafood, Asian, Filipino, Indian</td>\n",
       "      <td>...</td>\n",
       "      <td>Botswana Pula(P)</td>\n",
       "      <td>Yes</td>\n",
       "      <td>No</td>\n",
       "      <td>No</td>\n",
       "      <td>No</td>\n",
       "      <td>4</td>\n",
       "      <td>4.40</td>\n",
       "      <td>Green</td>\n",
       "      <td>Very Good</td>\n",
       "      <td>270</td>\n",
       "    </tr>\n",
       "    <tr>\n",
       "      <th>3</th>\n",
       "      <td>6318506</td>\n",
       "      <td>Ooma</td>\n",
       "      <td>162</td>\n",
       "      <td>Mandaluyong City</td>\n",
       "      <td>Third Floor, Mega Fashion Hall, SM Megamall, O...</td>\n",
       "      <td>SM Megamall, Ortigas, Mandaluyong City</td>\n",
       "      <td>SM Megamall, Ortigas, Mandaluyong City, Mandal...</td>\n",
       "      <td>121.06</td>\n",
       "      <td>14.59</td>\n",
       "      <td>Japanese, Sushi</td>\n",
       "      <td>...</td>\n",
       "      <td>Botswana Pula(P)</td>\n",
       "      <td>No</td>\n",
       "      <td>No</td>\n",
       "      <td>No</td>\n",
       "      <td>No</td>\n",
       "      <td>4</td>\n",
       "      <td>4.90</td>\n",
       "      <td>Dark Green</td>\n",
       "      <td>Excellent</td>\n",
       "      <td>365</td>\n",
       "    </tr>\n",
       "    <tr>\n",
       "      <th>4</th>\n",
       "      <td>6314302</td>\n",
       "      <td>Sambo Kojin</td>\n",
       "      <td>162</td>\n",
       "      <td>Mandaluyong City</td>\n",
       "      <td>Third Floor, Mega Atrium, SM Megamall, Ortigas...</td>\n",
       "      <td>SM Megamall, Ortigas, Mandaluyong City</td>\n",
       "      <td>SM Megamall, Ortigas, Mandaluyong City, Mandal...</td>\n",
       "      <td>121.06</td>\n",
       "      <td>14.58</td>\n",
       "      <td>Japanese, Korean</td>\n",
       "      <td>...</td>\n",
       "      <td>Botswana Pula(P)</td>\n",
       "      <td>Yes</td>\n",
       "      <td>No</td>\n",
       "      <td>No</td>\n",
       "      <td>No</td>\n",
       "      <td>4</td>\n",
       "      <td>4.80</td>\n",
       "      <td>Dark Green</td>\n",
       "      <td>Excellent</td>\n",
       "      <td>229</td>\n",
       "    </tr>\n",
       "  </tbody>\n",
       "</table>\n",
       "<p>5 rows × 21 columns</p>\n",
       "</div>"
      ],
      "text/plain": [
       "   Restaurant ID         Restaurant Name  Country Code              City  \\\n",
       "0        6317637        Le Petit Souffle           162       Makati City   \n",
       "1        6304287        Izakaya Kikufuji           162       Makati City   \n",
       "2        6300002  Heat - Edsa Shangri-La           162  Mandaluyong City   \n",
       "3        6318506                    Ooma           162  Mandaluyong City   \n",
       "4        6314302             Sambo Kojin           162  Mandaluyong City   \n",
       "\n",
       "                                             Address  \\\n",
       "0  Third Floor, Century City Mall, Kalayaan Avenu...   \n",
       "1  Little Tokyo, 2277 Chino Roces Avenue, Legaspi...   \n",
       "2  Edsa Shangri-La, 1 Garden Way, Ortigas, Mandal...   \n",
       "3  Third Floor, Mega Fashion Hall, SM Megamall, O...   \n",
       "4  Third Floor, Mega Atrium, SM Megamall, Ortigas...   \n",
       "\n",
       "                                     Locality  \\\n",
       "0   Century City Mall, Poblacion, Makati City   \n",
       "1  Little Tokyo, Legaspi Village, Makati City   \n",
       "2  Edsa Shangri-La, Ortigas, Mandaluyong City   \n",
       "3      SM Megamall, Ortigas, Mandaluyong City   \n",
       "4      SM Megamall, Ortigas, Mandaluyong City   \n",
       "\n",
       "                                    Locality Verbose  Longitude  Latitude  \\\n",
       "0  Century City Mall, Poblacion, Makati City, Mak...     121.03     14.57   \n",
       "1  Little Tokyo, Legaspi Village, Makati City, Ma...     121.01     14.55   \n",
       "2  Edsa Shangri-La, Ortigas, Mandaluyong City, Ma...     121.06     14.58   \n",
       "3  SM Megamall, Ortigas, Mandaluyong City, Mandal...     121.06     14.59   \n",
       "4  SM Megamall, Ortigas, Mandaluyong City, Mandal...     121.06     14.58   \n",
       "\n",
       "                           Cuisines  ...          Currency Has Table booking  \\\n",
       "0        French, Japanese, Desserts  ...  Botswana Pula(P)               Yes   \n",
       "1                          Japanese  ...  Botswana Pula(P)               Yes   \n",
       "2  Seafood, Asian, Filipino, Indian  ...  Botswana Pula(P)               Yes   \n",
       "3                   Japanese, Sushi  ...  Botswana Pula(P)                No   \n",
       "4                  Japanese, Korean  ...  Botswana Pula(P)               Yes   \n",
       "\n",
       "  Has Online delivery Is delivering now Switch to order menu Price range  \\\n",
       "0                  No                No                   No           3   \n",
       "1                  No                No                   No           3   \n",
       "2                  No                No                   No           4   \n",
       "3                  No                No                   No           4   \n",
       "4                  No                No                   No           4   \n",
       "\n",
       "   Aggregate rating  Rating color Rating text Votes  \n",
       "0              4.80    Dark Green   Excellent   314  \n",
       "1              4.50    Dark Green   Excellent   591  \n",
       "2              4.40         Green   Very Good   270  \n",
       "3              4.90    Dark Green   Excellent   365  \n",
       "4              4.80    Dark Green   Excellent   229  \n",
       "\n",
       "[5 rows x 21 columns]"
      ]
     },
     "execution_count": 50,
     "metadata": {},
     "output_type": "execute_result"
    }
   ],
   "source": [
    "df.head()"
   ]
  },
  {
   "cell_type": "code",
   "execution_count": 51,
   "id": "2e72ee59",
   "metadata": {},
   "outputs": [
    {
     "data": {
      "text/html": [
       "<div>\n",
       "<style scoped>\n",
       "    .dataframe tbody tr th:only-of-type {\n",
       "        vertical-align: middle;\n",
       "    }\n",
       "\n",
       "    .dataframe tbody tr th {\n",
       "        vertical-align: top;\n",
       "    }\n",
       "\n",
       "    .dataframe thead th {\n",
       "        text-align: right;\n",
       "    }\n",
       "</style>\n",
       "<table border=\"1\" class=\"dataframe\">\n",
       "  <thead>\n",
       "    <tr style=\"text-align: right;\">\n",
       "      <th></th>\n",
       "      <th>Restaurant ID</th>\n",
       "      <th>Restaurant Name</th>\n",
       "      <th>Country Code</th>\n",
       "      <th>City</th>\n",
       "      <th>Address</th>\n",
       "      <th>Locality</th>\n",
       "      <th>Locality Verbose</th>\n",
       "      <th>Longitude</th>\n",
       "      <th>Latitude</th>\n",
       "      <th>Cuisines</th>\n",
       "      <th>...</th>\n",
       "      <th>Currency</th>\n",
       "      <th>Has Table booking</th>\n",
       "      <th>Has Online delivery</th>\n",
       "      <th>Is delivering now</th>\n",
       "      <th>Switch to order menu</th>\n",
       "      <th>Price range</th>\n",
       "      <th>Aggregate rating</th>\n",
       "      <th>Rating color</th>\n",
       "      <th>Rating text</th>\n",
       "      <th>Votes</th>\n",
       "    </tr>\n",
       "  </thead>\n",
       "  <tbody>\n",
       "    <tr>\n",
       "      <th>9546</th>\n",
       "      <td>5915730</td>\n",
       "      <td>Naml Gurme</td>\n",
       "      <td>208</td>\n",
       "      <td>��stanbul</td>\n",
       "      <td>Kemanke�� Karamustafa Pa��a Mahallesi, R۱ht۱m ...</td>\n",
       "      <td>Karak�_y</td>\n",
       "      <td>Karak�_y, ��stanbul</td>\n",
       "      <td>28.98</td>\n",
       "      <td>41.02</td>\n",
       "      <td>Turkish</td>\n",
       "      <td>...</td>\n",
       "      <td>Turkish Lira(TL)</td>\n",
       "      <td>No</td>\n",
       "      <td>No</td>\n",
       "      <td>No</td>\n",
       "      <td>No</td>\n",
       "      <td>3</td>\n",
       "      <td>4.10</td>\n",
       "      <td>Green</td>\n",
       "      <td>Very Good</td>\n",
       "      <td>788</td>\n",
       "    </tr>\n",
       "    <tr>\n",
       "      <th>9547</th>\n",
       "      <td>5908749</td>\n",
       "      <td>Ceviz Aac</td>\n",
       "      <td>208</td>\n",
       "      <td>��stanbul</td>\n",
       "      <td>Ko��uyolu Mahallesi, Muhittin ��st�_nda�� Cadd...</td>\n",
       "      <td>Ko��uyolu</td>\n",
       "      <td>Ko��uyolu, ��stanbul</td>\n",
       "      <td>29.04</td>\n",
       "      <td>41.01</td>\n",
       "      <td>World Cuisine, Patisserie, Cafe</td>\n",
       "      <td>...</td>\n",
       "      <td>Turkish Lira(TL)</td>\n",
       "      <td>No</td>\n",
       "      <td>No</td>\n",
       "      <td>No</td>\n",
       "      <td>No</td>\n",
       "      <td>3</td>\n",
       "      <td>4.20</td>\n",
       "      <td>Green</td>\n",
       "      <td>Very Good</td>\n",
       "      <td>1034</td>\n",
       "    </tr>\n",
       "    <tr>\n",
       "      <th>9548</th>\n",
       "      <td>5915807</td>\n",
       "      <td>Huqqa</td>\n",
       "      <td>208</td>\n",
       "      <td>��stanbul</td>\n",
       "      <td>Kuru�_e��me Mahallesi, Muallim Naci Caddesi, N...</td>\n",
       "      <td>Kuru�_e��me</td>\n",
       "      <td>Kuru�_e��me, ��stanbul</td>\n",
       "      <td>29.03</td>\n",
       "      <td>41.06</td>\n",
       "      <td>Italian, World Cuisine</td>\n",
       "      <td>...</td>\n",
       "      <td>Turkish Lira(TL)</td>\n",
       "      <td>No</td>\n",
       "      <td>No</td>\n",
       "      <td>No</td>\n",
       "      <td>No</td>\n",
       "      <td>4</td>\n",
       "      <td>3.70</td>\n",
       "      <td>Yellow</td>\n",
       "      <td>Good</td>\n",
       "      <td>661</td>\n",
       "    </tr>\n",
       "    <tr>\n",
       "      <th>9549</th>\n",
       "      <td>5916112</td>\n",
       "      <td>Ak Kahve</td>\n",
       "      <td>208</td>\n",
       "      <td>��stanbul</td>\n",
       "      <td>Kuru�_e��me Mahallesi, Muallim Naci Caddesi, N...</td>\n",
       "      <td>Kuru�_e��me</td>\n",
       "      <td>Kuru�_e��me, ��stanbul</td>\n",
       "      <td>29.04</td>\n",
       "      <td>41.06</td>\n",
       "      <td>Restaurant Cafe</td>\n",
       "      <td>...</td>\n",
       "      <td>Turkish Lira(TL)</td>\n",
       "      <td>No</td>\n",
       "      <td>No</td>\n",
       "      <td>No</td>\n",
       "      <td>No</td>\n",
       "      <td>4</td>\n",
       "      <td>4.00</td>\n",
       "      <td>Green</td>\n",
       "      <td>Very Good</td>\n",
       "      <td>901</td>\n",
       "    </tr>\n",
       "    <tr>\n",
       "      <th>9550</th>\n",
       "      <td>5927402</td>\n",
       "      <td>Walter's Coffee Roastery</td>\n",
       "      <td>208</td>\n",
       "      <td>��stanbul</td>\n",
       "      <td>Cafea��a Mahallesi, Bademalt۱ Sokak, No 21/B, ...</td>\n",
       "      <td>Moda</td>\n",
       "      <td>Moda, ��stanbul</td>\n",
       "      <td>29.03</td>\n",
       "      <td>40.98</td>\n",
       "      <td>Cafe</td>\n",
       "      <td>...</td>\n",
       "      <td>Turkish Lira(TL)</td>\n",
       "      <td>No</td>\n",
       "      <td>No</td>\n",
       "      <td>No</td>\n",
       "      <td>No</td>\n",
       "      <td>2</td>\n",
       "      <td>4.00</td>\n",
       "      <td>Green</td>\n",
       "      <td>Very Good</td>\n",
       "      <td>591</td>\n",
       "    </tr>\n",
       "  </tbody>\n",
       "</table>\n",
       "<p>5 rows × 21 columns</p>\n",
       "</div>"
      ],
      "text/plain": [
       "      Restaurant ID           Restaurant Name  Country Code       City  \\\n",
       "9546        5915730                Naml Gurme           208  ��stanbul   \n",
       "9547        5908749                 Ceviz Aac           208  ��stanbul   \n",
       "9548        5915807                     Huqqa           208  ��stanbul   \n",
       "9549        5916112                  Ak Kahve           208  ��stanbul   \n",
       "9550        5927402  Walter's Coffee Roastery           208  ��stanbul   \n",
       "\n",
       "                                                Address     Locality  \\\n",
       "9546  Kemanke�� Karamustafa Pa��a Mahallesi, R۱ht۱m ...     Karak�_y   \n",
       "9547  Ko��uyolu Mahallesi, Muhittin ��st�_nda�� Cadd...    Ko��uyolu   \n",
       "9548  Kuru�_e��me Mahallesi, Muallim Naci Caddesi, N...  Kuru�_e��me   \n",
       "9549  Kuru�_e��me Mahallesi, Muallim Naci Caddesi, N...  Kuru�_e��me   \n",
       "9550  Cafea��a Mahallesi, Bademalt۱ Sokak, No 21/B, ...         Moda   \n",
       "\n",
       "            Locality Verbose  Longitude  Latitude  \\\n",
       "9546     Karak�_y, ��stanbul      28.98     41.02   \n",
       "9547    Ko��uyolu, ��stanbul      29.04     41.01   \n",
       "9548  Kuru�_e��me, ��stanbul      29.03     41.06   \n",
       "9549  Kuru�_e��me, ��stanbul      29.04     41.06   \n",
       "9550         Moda, ��stanbul      29.03     40.98   \n",
       "\n",
       "                             Cuisines  ...          Currency  \\\n",
       "9546                          Turkish  ...  Turkish Lira(TL)   \n",
       "9547  World Cuisine, Patisserie, Cafe  ...  Turkish Lira(TL)   \n",
       "9548           Italian, World Cuisine  ...  Turkish Lira(TL)   \n",
       "9549                  Restaurant Cafe  ...  Turkish Lira(TL)   \n",
       "9550                             Cafe  ...  Turkish Lira(TL)   \n",
       "\n",
       "     Has Table booking Has Online delivery Is delivering now  \\\n",
       "9546                No                  No                No   \n",
       "9547                No                  No                No   \n",
       "9548                No                  No                No   \n",
       "9549                No                  No                No   \n",
       "9550                No                  No                No   \n",
       "\n",
       "     Switch to order menu Price range  Aggregate rating  Rating color  \\\n",
       "9546                   No           3              4.10         Green   \n",
       "9547                   No           3              4.20         Green   \n",
       "9548                   No           4              3.70        Yellow   \n",
       "9549                   No           4              4.00         Green   \n",
       "9550                   No           2              4.00         Green   \n",
       "\n",
       "     Rating text Votes  \n",
       "9546   Very Good   788  \n",
       "9547   Very Good  1034  \n",
       "9548        Good   661  \n",
       "9549   Very Good   901  \n",
       "9550   Very Good   591  \n",
       "\n",
       "[5 rows x 21 columns]"
      ]
     },
     "execution_count": 51,
     "metadata": {},
     "output_type": "execute_result"
    }
   ],
   "source": [
    "df.tail()"
   ]
  },
  {
   "cell_type": "code",
   "execution_count": 52,
   "id": "d9be5e18",
   "metadata": {},
   "outputs": [
    {
     "data": {
      "text/html": [
       "<div>\n",
       "<style scoped>\n",
       "    .dataframe tbody tr th:only-of-type {\n",
       "        vertical-align: middle;\n",
       "    }\n",
       "\n",
       "    .dataframe tbody tr th {\n",
       "        vertical-align: top;\n",
       "    }\n",
       "\n",
       "    .dataframe thead th {\n",
       "        text-align: right;\n",
       "    }\n",
       "</style>\n",
       "<table border=\"1\" class=\"dataframe\">\n",
       "  <thead>\n",
       "    <tr style=\"text-align: right;\">\n",
       "      <th></th>\n",
       "      <th>Restaurant ID</th>\n",
       "      <th>Restaurant Name</th>\n",
       "      <th>Country Code</th>\n",
       "      <th>City</th>\n",
       "      <th>Address</th>\n",
       "      <th>Locality</th>\n",
       "      <th>Locality Verbose</th>\n",
       "      <th>Longitude</th>\n",
       "      <th>Latitude</th>\n",
       "      <th>Cuisines</th>\n",
       "      <th>...</th>\n",
       "      <th>Currency</th>\n",
       "      <th>Has Table booking</th>\n",
       "      <th>Has Online delivery</th>\n",
       "      <th>Is delivering now</th>\n",
       "      <th>Switch to order menu</th>\n",
       "      <th>Price range</th>\n",
       "      <th>Aggregate rating</th>\n",
       "      <th>Rating color</th>\n",
       "      <th>Rating text</th>\n",
       "      <th>Votes</th>\n",
       "    </tr>\n",
       "  </thead>\n",
       "  <tbody>\n",
       "    <tr>\n",
       "      <th>5757</th>\n",
       "      <td>18261161</td>\n",
       "      <td>The Regal Chicken Corner</td>\n",
       "      <td>1</td>\n",
       "      <td>New Delhi</td>\n",
       "      <td>Near Water Tank, Najafgarh Road, Nangloi, New ...</td>\n",
       "      <td>Nangloi</td>\n",
       "      <td>Nangloi, New Delhi</td>\n",
       "      <td>77.06</td>\n",
       "      <td>28.68</td>\n",
       "      <td>North Indian, Mughlai</td>\n",
       "      <td>...</td>\n",
       "      <td>Indian Rupees(Rs.)</td>\n",
       "      <td>No</td>\n",
       "      <td>No</td>\n",
       "      <td>No</td>\n",
       "      <td>No</td>\n",
       "      <td>1</td>\n",
       "      <td>0.00</td>\n",
       "      <td>White</td>\n",
       "      <td>Not rated</td>\n",
       "      <td>0</td>\n",
       "    </tr>\n",
       "    <tr>\n",
       "      <th>2992</th>\n",
       "      <td>9476</td>\n",
       "      <td>Kolkata Roll</td>\n",
       "      <td>1</td>\n",
       "      <td>New Delhi</td>\n",
       "      <td>Community Centre, New Friends Colony, New Delhi</td>\n",
       "      <td>Community Centre, New Friends Colony</td>\n",
       "      <td>Community Centre, New Friends Colony, New Delhi</td>\n",
       "      <td>77.27</td>\n",
       "      <td>28.56</td>\n",
       "      <td>Fast Food</td>\n",
       "      <td>...</td>\n",
       "      <td>Indian Rupees(Rs.)</td>\n",
       "      <td>No</td>\n",
       "      <td>No</td>\n",
       "      <td>No</td>\n",
       "      <td>No</td>\n",
       "      <td>1</td>\n",
       "      <td>2.80</td>\n",
       "      <td>Orange</td>\n",
       "      <td>Average</td>\n",
       "      <td>16</td>\n",
       "    </tr>\n",
       "    <tr>\n",
       "      <th>747</th>\n",
       "      <td>2600514</td>\n",
       "      <td>Maybe There</td>\n",
       "      <td>1</td>\n",
       "      <td>Bhopal</td>\n",
       "      <td>4th floor,10th Cross Road Building, Above Vish...</td>\n",
       "      <td>Arera Colony</td>\n",
       "      <td>Arera Colony, Bhopal</td>\n",
       "      <td>0.00</td>\n",
       "      <td>0.00</td>\n",
       "      <td>Cafe</td>\n",
       "      <td>...</td>\n",
       "      <td>Indian Rupees(Rs.)</td>\n",
       "      <td>No</td>\n",
       "      <td>No</td>\n",
       "      <td>No</td>\n",
       "      <td>No</td>\n",
       "      <td>2</td>\n",
       "      <td>3.40</td>\n",
       "      <td>Orange</td>\n",
       "      <td>Average</td>\n",
       "      <td>63</td>\n",
       "    </tr>\n",
       "    <tr>\n",
       "      <th>7713</th>\n",
       "      <td>18369756</td>\n",
       "      <td>Bun Intended</td>\n",
       "      <td>1</td>\n",
       "      <td>New Delhi</td>\n",
       "      <td>Vasant Kunj, New Delhi</td>\n",
       "      <td>Vasant Kunj</td>\n",
       "      <td>Vasant Kunj, New Delhi</td>\n",
       "      <td>77.17</td>\n",
       "      <td>28.52</td>\n",
       "      <td>Burger, American, Fast Food</td>\n",
       "      <td>...</td>\n",
       "      <td>Indian Rupees(Rs.)</td>\n",
       "      <td>No</td>\n",
       "      <td>Yes</td>\n",
       "      <td>No</td>\n",
       "      <td>No</td>\n",
       "      <td>2</td>\n",
       "      <td>3.80</td>\n",
       "      <td>Yellow</td>\n",
       "      <td>Good</td>\n",
       "      <td>123</td>\n",
       "    </tr>\n",
       "    <tr>\n",
       "      <th>3059</th>\n",
       "      <td>312601</td>\n",
       "      <td>Open House Cafe</td>\n",
       "      <td>1</td>\n",
       "      <td>New Delhi</td>\n",
       "      <td>C-37, Connaught Place, New Delhi</td>\n",
       "      <td>Connaught Place</td>\n",
       "      <td>Connaught Place, New Delhi</td>\n",
       "      <td>77.22</td>\n",
       "      <td>28.63</td>\n",
       "      <td>North Indian, Chinese, Mughlai, Italian</td>\n",
       "      <td>...</td>\n",
       "      <td>Indian Rupees(Rs.)</td>\n",
       "      <td>No</td>\n",
       "      <td>No</td>\n",
       "      <td>No</td>\n",
       "      <td>No</td>\n",
       "      <td>3</td>\n",
       "      <td>3.80</td>\n",
       "      <td>Yellow</td>\n",
       "      <td>Good</td>\n",
       "      <td>1158</td>\n",
       "    </tr>\n",
       "  </tbody>\n",
       "</table>\n",
       "<p>5 rows × 21 columns</p>\n",
       "</div>"
      ],
      "text/plain": [
       "      Restaurant ID           Restaurant Name  Country Code       City  \\\n",
       "5757       18261161  The Regal Chicken Corner             1  New Delhi   \n",
       "2992           9476              Kolkata Roll             1  New Delhi   \n",
       "747         2600514               Maybe There             1     Bhopal   \n",
       "7713       18369756              Bun Intended             1  New Delhi   \n",
       "3059         312601           Open House Cafe             1  New Delhi   \n",
       "\n",
       "                                                Address  \\\n",
       "5757  Near Water Tank, Najafgarh Road, Nangloi, New ...   \n",
       "2992    Community Centre, New Friends Colony, New Delhi   \n",
       "747   4th floor,10th Cross Road Building, Above Vish...   \n",
       "7713                             Vasant Kunj, New Delhi   \n",
       "3059                   C-37, Connaught Place, New Delhi   \n",
       "\n",
       "                                  Locality  \\\n",
       "5757                               Nangloi   \n",
       "2992  Community Centre, New Friends Colony   \n",
       "747                           Arera Colony   \n",
       "7713                           Vasant Kunj   \n",
       "3059                       Connaught Place   \n",
       "\n",
       "                                     Locality Verbose  Longitude  Latitude  \\\n",
       "5757                               Nangloi, New Delhi      77.06     28.68   \n",
       "2992  Community Centre, New Friends Colony, New Delhi      77.27     28.56   \n",
       "747                              Arera Colony, Bhopal       0.00      0.00   \n",
       "7713                           Vasant Kunj, New Delhi      77.17     28.52   \n",
       "3059                       Connaught Place, New Delhi      77.22     28.63   \n",
       "\n",
       "                                     Cuisines  ...            Currency  \\\n",
       "5757                    North Indian, Mughlai  ...  Indian Rupees(Rs.)   \n",
       "2992                                Fast Food  ...  Indian Rupees(Rs.)   \n",
       "747                                      Cafe  ...  Indian Rupees(Rs.)   \n",
       "7713              Burger, American, Fast Food  ...  Indian Rupees(Rs.)   \n",
       "3059  North Indian, Chinese, Mughlai, Italian  ...  Indian Rupees(Rs.)   \n",
       "\n",
       "     Has Table booking Has Online delivery Is delivering now  \\\n",
       "5757                No                  No                No   \n",
       "2992                No                  No                No   \n",
       "747                 No                  No                No   \n",
       "7713                No                 Yes                No   \n",
       "3059                No                  No                No   \n",
       "\n",
       "     Switch to order menu Price range  Aggregate rating  Rating color  \\\n",
       "5757                   No           1              0.00         White   \n",
       "2992                   No           1              2.80        Orange   \n",
       "747                    No           2              3.40        Orange   \n",
       "7713                   No           2              3.80        Yellow   \n",
       "3059                   No           3              3.80        Yellow   \n",
       "\n",
       "     Rating text Votes  \n",
       "5757   Not rated     0  \n",
       "2992     Average    16  \n",
       "747      Average    63  \n",
       "7713        Good   123  \n",
       "3059        Good  1158  \n",
       "\n",
       "[5 rows x 21 columns]"
      ]
     },
     "execution_count": 52,
     "metadata": {},
     "output_type": "execute_result"
    }
   ],
   "source": [
    "df.sample(5)"
   ]
  },
  {
   "cell_type": "code",
   "execution_count": 53,
   "id": "e7aafe56",
   "metadata": {},
   "outputs": [
    {
     "data": {
      "text/plain": [
       "Index(['Restaurant ID', 'Restaurant Name', 'Country Code', 'City', 'Address',\n",
       "       'Locality', 'Locality Verbose', 'Longitude', 'Latitude', 'Cuisines',\n",
       "       'Average Cost for two', 'Currency', 'Has Table booking',\n",
       "       'Has Online delivery', 'Is delivering now', 'Switch to order menu',\n",
       "       'Price range', 'Aggregate rating', 'Rating color', 'Rating text',\n",
       "       'Votes'],\n",
       "      dtype='object')"
      ]
     },
     "execution_count": 53,
     "metadata": {},
     "output_type": "execute_result"
    }
   ],
   "source": [
    "df.columns\n"
   ]
  },
  {
   "cell_type": "code",
   "execution_count": 54,
   "id": "01397db2",
   "metadata": {},
   "outputs": [
    {
     "data": {
      "text/plain": [
       "Restaurant ID           0\n",
       "Restaurant Name         0\n",
       "Country Code            0\n",
       "City                    0\n",
       "Address                 0\n",
       "Locality                0\n",
       "Locality Verbose        0\n",
       "Longitude               0\n",
       "Latitude                0\n",
       "Cuisines                9\n",
       "Average Cost for two    0\n",
       "Currency                0\n",
       "Has Table booking       0\n",
       "Has Online delivery     0\n",
       "Is delivering now       0\n",
       "Switch to order menu    0\n",
       "Price range             0\n",
       "Aggregate rating        0\n",
       "Rating color            0\n",
       "Rating text             0\n",
       "Votes                   0\n",
       "dtype: int64"
      ]
     },
     "execution_count": 54,
     "metadata": {},
     "output_type": "execute_result"
    }
   ],
   "source": [
    "df.isnull().sum()"
   ]
  },
  {
   "cell_type": "code",
   "execution_count": 55,
   "id": "aabf3a1b",
   "metadata": {},
   "outputs": [
    {
     "data": {
      "text/plain": [
       "<Axes: >"
      ]
     },
     "execution_count": 55,
     "metadata": {},
     "output_type": "execute_result"
    },
    {
     "data": {
      "image/png": "[encoded data removed]",
      "text/plain": [
       "<Figure size 640x480 with 2 Axes>"
      ]
     },
     "metadata": {},
     "output_type": "display_data"
    }
   ],
   "source": [
    "sns.heatmap(df.isnull())"
   ]
  },
  {
   "cell_type": "code",
   "execution_count": 56,
   "id": "128f85f8",
   "metadata": {},
   "outputs": [
    {
     "data": {
      "text/html": [
       "<div>\n",
       "<style scoped>\n",
       "    .dataframe tbody tr th:only-of-type {\n",
       "        vertical-align: middle;\n",
       "    }\n",
       "\n",
       "    .dataframe tbody tr th {\n",
       "        vertical-align: top;\n",
       "    }\n",
       "\n",
       "    .dataframe thead th {\n",
       "        text-align: right;\n",
       "    }\n",
       "</style>\n",
       "<table border=\"1\" class=\"dataframe\">\n",
       "  <thead>\n",
       "    <tr style=\"text-align: right;\">\n",
       "      <th></th>\n",
       "      <th>Restaurant ID</th>\n",
       "      <th>Country Code</th>\n",
       "      <th>Longitude</th>\n",
       "      <th>Latitude</th>\n",
       "      <th>Average Cost for two</th>\n",
       "      <th>Price range</th>\n",
       "      <th>Aggregate rating</th>\n",
       "      <th>Votes</th>\n",
       "    </tr>\n",
       "  </thead>\n",
       "  <tbody>\n",
       "    <tr>\n",
       "      <th>count</th>\n",
       "      <td>9551.00</td>\n",
       "      <td>9551.00</td>\n",
       "      <td>9551.00</td>\n",
       "      <td>9551.00</td>\n",
       "      <td>9551.00</td>\n",
       "      <td>9551.00</td>\n",
       "      <td>9551.00</td>\n",
       "      <td>9551.00</td>\n",
       "    </tr>\n",
       "    <tr>\n",
       "      <th>mean</th>\n",
       "      <td>9051128.35</td>\n",
       "      <td>18.37</td>\n",
       "      <td>64.13</td>\n",
       "      <td>25.85</td>\n",
       "      <td>1199.21</td>\n",
       "      <td>1.80</td>\n",
       "      <td>2.67</td>\n",
       "      <td>156.91</td>\n",
       "    </tr>\n",
       "    <tr>\n",
       "      <th>std</th>\n",
       "      <td>8791521.28</td>\n",
       "      <td>56.75</td>\n",
       "      <td>41.47</td>\n",
       "      <td>11.01</td>\n",
       "      <td>16121.18</td>\n",
       "      <td>0.91</td>\n",
       "      <td>1.52</td>\n",
       "      <td>430.17</td>\n",
       "    </tr>\n",
       "    <tr>\n",
       "      <th>min</th>\n",
       "      <td>53.00</td>\n",
       "      <td>1.00</td>\n",
       "      <td>-157.95</td>\n",
       "      <td>-41.33</td>\n",
       "      <td>0.00</td>\n",
       "      <td>1.00</td>\n",
       "      <td>0.00</td>\n",
       "      <td>0.00</td>\n",
       "    </tr>\n",
       "    <tr>\n",
       "      <th>25%</th>\n",
       "      <td>301962.50</td>\n",
       "      <td>1.00</td>\n",
       "      <td>77.08</td>\n",
       "      <td>28.48</td>\n",
       "      <td>250.00</td>\n",
       "      <td>1.00</td>\n",
       "      <td>2.50</td>\n",
       "      <td>5.00</td>\n",
       "    </tr>\n",
       "    <tr>\n",
       "      <th>50%</th>\n",
       "      <td>6004089.00</td>\n",
       "      <td>1.00</td>\n",
       "      <td>77.19</td>\n",
       "      <td>28.57</td>\n",
       "      <td>400.00</td>\n",
       "      <td>2.00</td>\n",
       "      <td>3.20</td>\n",
       "      <td>31.00</td>\n",
       "    </tr>\n",
       "    <tr>\n",
       "      <th>75%</th>\n",
       "      <td>18352291.50</td>\n",
       "      <td>1.00</td>\n",
       "      <td>77.28</td>\n",
       "      <td>28.64</td>\n",
       "      <td>700.00</td>\n",
       "      <td>2.00</td>\n",
       "      <td>3.70</td>\n",
       "      <td>131.00</td>\n",
       "    </tr>\n",
       "    <tr>\n",
       "      <th>max</th>\n",
       "      <td>18500652.00</td>\n",
       "      <td>216.00</td>\n",
       "      <td>174.83</td>\n",
       "      <td>55.98</td>\n",
       "      <td>800000.00</td>\n",
       "      <td>4.00</td>\n",
       "      <td>4.90</td>\n",
       "      <td>10934.00</td>\n",
       "    </tr>\n",
       "  </tbody>\n",
       "</table>\n",
       "</div>"
      ],
      "text/plain": [
       "       Restaurant ID  Country Code  Longitude  Latitude  Average Cost for two  \\\n",
       "count        9551.00       9551.00    9551.00   9551.00               9551.00   \n",
       "mean      9051128.35         18.37      64.13     25.85               1199.21   \n",
       "std       8791521.28         56.75      41.47     11.01              16121.18   \n",
       "min            53.00          1.00    -157.95    -41.33                  0.00   \n",
       "25%        301962.50          1.00      77.08     28.48                250.00   \n",
       "50%       6004089.00          1.00      77.19     28.57                400.00   \n",
       "75%      18352291.50          1.00      77.28     28.64                700.00   \n",
       "max      18500652.00        216.00     174.83     55.98             800000.00   \n",
       "\n",
       "       Price range  Aggregate rating    Votes  \n",
       "count      9551.00           9551.00  9551.00  \n",
       "mean          1.80              2.67   156.91  \n",
       "std           0.91              1.52   430.17  \n",
       "min           1.00              0.00     0.00  \n",
       "25%           1.00              2.50     5.00  \n",
       "50%           2.00              3.20    31.00  \n",
       "75%           2.00              3.70   131.00  \n",
       "max           4.00              4.90 10934.00  "
      ]
     },
     "execution_count": 56,
     "metadata": {},
     "output_type": "execute_result"
    }
   ],
   "source": [
    "df.describe()"
   ]
  },
  {
   "cell_type": "code",
   "execution_count": 57,
   "id": "d20c8153",
   "metadata": {},
   "outputs": [],
   "source": [
    "pd.options.display.float_format ='{:.2f}'.format"
   ]
  },
  {
   "cell_type": "code",
   "execution_count": 58,
   "id": "b5e83a2e",
   "metadata": {},
   "outputs": [
    {
     "name": "stdout",
     "output_type": "stream",
     "text": [
      "<class 'pandas.core.frame.DataFrame'>\n",
      "RangeIndex: 9551 entries, 0 to 9550\n",
      "Data columns (total 21 columns):\n",
      " #   Column                Non-Null Count  Dtype  \n",
      "---  ------                --------------  -----  \n",
      " 0   Restaurant ID         9551 non-null   int64  \n",
      " 1   Restaurant Name       9551 non-null   object \n",
      " 2   Country Code          9551 non-null   int64  \n",
      " 3   City                  9551 non-null   object \n",
      " 4   Address               9551 non-null   object \n",
      " 5   Locality              9551 non-null   object \n",
      " 6   Locality Verbose      9551 non-null   object \n",
      " 7   Longitude             9551 non-null   float64\n",
      " 8   Latitude              9551 non-null   float64\n",
      " 9   Cuisines              9542 non-null   object \n",
      " 10  Average Cost for two  9551 non-null   int64  \n",
      " 11  Currency              9551 non-null   object \n",
      " 12  Has Table booking     9551 non-null   object \n",
      " 13  Has Online delivery   9551 non-null   object \n",
      " 14  Is delivering now     9551 non-null   object \n",
      " 15  Switch to order menu  9551 non-null   object \n",
      " 16  Price range           9551 non-null   int64  \n",
      " 17  Aggregate rating      9551 non-null   float64\n",
      " 18  Rating color          9551 non-null   object \n",
      " 19  Rating text           9551 non-null   object \n",
      " 20  Votes                 9551 non-null   int64  \n",
      "dtypes: float64(3), int64(5), object(13)\n",
      "memory usage: 1.5+ MB\n"
     ]
    }
   ],
   "source": [
    "df.info()"
   ]
  },
  {
   "cell_type": "markdown",
   "id": "049729a4",
   "metadata": {},
   "source": [
    "# LEVEL ONE"
   ]
  },
  {
   "cell_type": "markdown",
   "id": "93e9fdcd",
   "metadata": {},
   "source": [
    "# Task 1 : Top Cuisines\n"
   ]
  },
  {
   "cell_type": "markdown",
   "id": "2b96992a",
   "metadata": {},
   "source": [
    "## Determine the top three most common cuisines in the dataset."
   ]
  },
  {
   "cell_type": "code",
   "execution_count": 59,
   "id": "c560baba",
   "metadata": {},
   "outputs": [
    {
     "data": {
      "text/plain": [
       "Index(['Restaurant ID', 'Restaurant Name', 'Country Code', 'City', 'Address',\n",
       "       'Locality', 'Locality Verbose', 'Longitude', 'Latitude', 'Cuisines',\n",
       "       'Average Cost for two', 'Currency', 'Has Table booking',\n",
       "       'Has Online delivery', 'Is delivering now', 'Switch to order menu',\n",
       "       'Price range', 'Aggregate rating', 'Rating color', 'Rating text',\n",
       "       'Votes'],\n",
       "      dtype='object')"
      ]
     },
     "execution_count": 59,
     "metadata": {},
     "output_type": "execute_result"
    }
   ],
   "source": [
    "df.columns"
   ]
  },
  {
   "cell_type": "code",
   "execution_count": 60,
   "id": "566eebaa",
   "metadata": {},
   "outputs": [
    {
     "data": {
      "text/plain": [
       "Cuisines\n",
       "North Indian             936\n",
       "North Indian, Chinese    511\n",
       "Chinese                  354\n",
       "Name: count, dtype: int64"
      ]
     },
     "execution_count": 60,
     "metadata": {},
     "output_type": "execute_result"
    }
   ],
   "source": [
    "df['Cuisines'].value_counts().sort_values(ascending=False).head(3)"
   ]
  },
  {
   "cell_type": "markdown",
   "id": "9bbb6016",
   "metadata": {},
   "source": [
    "## Calculate the percentage of restaurants that serve each of the top cuisines."
   ]
  },
  {
   "cell_type": "code",
   "execution_count": 61,
   "id": "f830fd36",
   "metadata": {},
   "outputs": [
    {
     "data": {
      "text/plain": [
       "<pandas.core.groupby.generic.SeriesGroupBy object at 0x000001ED786CCED0>"
      ]
     },
     "execution_count": 61,
     "metadata": {},
     "output_type": "execute_result"
    }
   ],
   "source": [
    "df.groupby(\"Cuisines\")['Restaurant Name']"
   ]
  },
  {
   "cell_type": "code",
   "execution_count": 62,
   "id": "bae68ebb",
   "metadata": {},
   "outputs": [],
   "source": [
    "df[df['Cuisines']==\"North Indian\"].count()\n",
    "nort=936"
   ]
  },
  {
   "cell_type": "code",
   "execution_count": 63,
   "id": "add939bb",
   "metadata": {},
   "outputs": [],
   "source": [
    "df[df['Cuisines']==\"North Indian, Chinese\"].count()\n",
    "north_chin=511"
   ]
  },
  {
   "cell_type": "code",
   "execution_count": 64,
   "id": "87fb8cea",
   "metadata": {},
   "outputs": [],
   "source": [
    "df[df['Cuisines']==\"Chinese\"].count()\n",
    "chine=354\n",
    "total=936+511+354"
   ]
  },
  {
   "cell_type": "code",
   "execution_count": 65,
   "id": "e0b278ce",
   "metadata": {},
   "outputs": [
    {
     "name": "stdout",
     "output_type": "stream",
     "text": [
      "51.97112715158245\n"
     ]
    }
   ],
   "source": [
    "nort_percentage = 936/total\n",
    "print(nort_percentage*100)"
   ]
  },
  {
   "cell_type": "code",
   "execution_count": 66,
   "id": "33d8b53d",
   "metadata": {},
   "outputs": [],
   "source": [
    "north_chinepercentage =511 /total"
   ]
  },
  {
   "cell_type": "code",
   "execution_count": 67,
   "id": "b9b7c32b",
   "metadata": {},
   "outputs": [
    {
     "name": "stdout",
     "output_type": "stream",
     "text": [
      "28.373126041088288\n"
     ]
    }
   ],
   "source": [
    "print(north_chinepercentage*100)"
   ]
  },
  {
   "cell_type": "code",
   "execution_count": 68,
   "id": "61d81d70",
   "metadata": {},
   "outputs": [],
   "source": [
    "chine_percentage = 354/total"
   ]
  },
  {
   "cell_type": "code",
   "execution_count": 69,
   "id": "a3702a94",
   "metadata": {},
   "outputs": [
    {
     "name": "stdout",
     "output_type": "stream",
     "text": [
      "19.66\n"
     ]
    }
   ],
   "source": [
    "print(round(chine_percentage*100,2))"
   ]
  },
  {
   "cell_type": "markdown",
   "id": "8d8b79f4",
   "metadata": {},
   "source": [
    "# Task 2 : City Analysis"
   ]
  },
  {
   "cell_type": "markdown",
   "id": "c07e40fb",
   "metadata": {},
   "source": [
    "## Identify the city with the highest number of restaurants in the dataset."
   ]
  },
  {
   "cell_type": "code",
   "execution_count": 70,
   "id": "719f3344",
   "metadata": {},
   "outputs": [
    {
     "data": {
      "text/plain": [
       "City\n",
       "New Delhi    5473\n",
       "Gurgaon      1118\n",
       "Noida        1080\n",
       "Faridabad     251\n",
       "Ghaziabad      25\n",
       "Name: count, dtype: int64"
      ]
     },
     "execution_count": 70,
     "metadata": {},
     "output_type": "execute_result"
    }
   ],
   "source": [
    "df['City'].value_counts().nlargest()"
   ]
  },
  {
   "cell_type": "markdown",
   "id": "cbbe856c",
   "metadata": {},
   "source": [
    "## Calculate the average rating for restaurants in each city."
   ]
  },
  {
   "cell_type": "code",
   "execution_count": 71,
   "id": "c2110133",
   "metadata": {},
   "outputs": [
    {
     "data": {
      "text/plain": [
       "City\n",
       "Abu Dhabi         4.30\n",
       "Agra              3.96\n",
       "Ahmedabad         4.16\n",
       "Albany            3.55\n",
       "Allahabad         3.40\n",
       "                  ... \n",
       "Weirton           3.90\n",
       "Wellington City   4.25\n",
       "Winchester Bay    3.20\n",
       "Yorkton           3.30\n",
       "��stanbul         4.29\n",
       "Name: Aggregate rating, Length: 141, dtype: float64"
      ]
     },
     "execution_count": 71,
     "metadata": {},
     "output_type": "execute_result"
    }
   ],
   "source": [
    "df.groupby(\"City\")['Aggregate rating'].mean()"
   ]
  },
  {
   "cell_type": "markdown",
   "id": "9bead074",
   "metadata": {},
   "source": [
    "## Determine the city with the highest average rating."
   ]
  },
  {
   "cell_type": "code",
   "execution_count": 72,
   "id": "82c0e77a",
   "metadata": {},
   "outputs": [
    {
     "data": {
      "text/plain": [
       "City\n",
       "Inner City   4.90\n",
       "Name: Aggregate rating, dtype: float64"
      ]
     },
     "execution_count": 72,
     "metadata": {},
     "output_type": "execute_result"
    }
   ],
   "source": [
    "df.groupby(\"City\")['Aggregate rating'].mean().nlargest(1)"
   ]
  },
  {
   "cell_type": "markdown",
   "id": "110ea247",
   "metadata": {},
   "source": [
    "# Task 3 : Price Range Distribution\n"
   ]
  },
  {
   "cell_type": "markdown",
   "id": "203c98ec",
   "metadata": {},
   "source": [
    "## Create a histogram or bar chart to visualize the distribution of price ranges among the restaurants."
   ]
  },
  {
   "cell_type": "code",
   "execution_count": 73,
   "id": "ded50ddf",
   "metadata": {},
   "outputs": [
    {
     "data": {
      "text/plain": [
       "Index(['Restaurant ID', 'Restaurant Name', 'Country Code', 'City', 'Address',\n",
       "       'Locality', 'Locality Verbose', 'Longitude', 'Latitude', 'Cuisines',\n",
       "       'Average Cost for two', 'Currency', 'Has Table booking',\n",
       "       'Has Online delivery', 'Is delivering now', 'Switch to order menu',\n",
       "       'Price range', 'Aggregate rating', 'Rating color', 'Rating text',\n",
       "       'Votes'],\n",
       "      dtype='object')"
      ]
     },
     "execution_count": 73,
     "metadata": {},
     "output_type": "execute_result"
    }
   ],
   "source": [
    "df.columns"
   ]
  },
  {
   "cell_type": "code",
   "execution_count": 74,
   "id": "b59f4740",
   "metadata": {},
   "outputs": [
    {
     "data": {
      "image/png": "[encoded data removed]",
      "text/plain": [
       "<Figure size 640x480 with 1 Axes>"
      ]
     },
     "metadata": {},
     "output_type": "display_data"
    }
   ],
   "source": [
    "plt.title(\"Distribution of Price Range\")\n",
    "sns.histplot(x=df['Price range'],bins=3,binwidth=0.8)\n",
    "plt.show()"
   ]
  },
  {
   "cell_type": "markdown",
   "id": "01a3b9f9",
   "metadata": {},
   "source": [
    "## Calculate the percentage of restaurants in each price range category."
   ]
  },
  {
   "cell_type": "code",
   "execution_count": 75,
   "id": "9e720624",
   "metadata": {},
   "outputs": [],
   "source": [
    "pd.options.display.float_format ='{:.2f}'.format"
   ]
  },
  {
   "cell_type": "code",
   "execution_count": 76,
   "id": "9641c8c1",
   "metadata": {},
   "outputs": [
    {
     "data": {
      "text/plain": [
       "Price range\n",
       "1    4444\n",
       "2    3113\n",
       "3    1408\n",
       "4     586\n",
       "Name: count, dtype: int64"
      ]
     },
     "execution_count": 76,
     "metadata": {},
     "output_type": "execute_result"
    }
   ],
   "source": [
    "df['Price range'].value_counts()"
   ]
  },
  {
   "cell_type": "code",
   "execution_count": 77,
   "id": "6972fea6",
   "metadata": {},
   "outputs": [
    {
     "data": {
      "image/png": "[encoded data removed]",
      "text/plain": [
       "<Figure size 640x480 with 1 Axes>"
      ]
     },
     "metadata": {},
     "output_type": "display_data"
    }
   ],
   "source": [
    "status_d = df['Price range'].value_counts()\n",
    "key_list = list(status_d.keys())\n",
    "value_list = status_d.values\n",
    "fig1, ax1 = plt.subplots()\n",
    "ax1.pie(value_list, labels=key_list, autopct='%1.1f%%', shadow=False, startangle=90)\n",
    "ax1.axis('equal')\n",
    "plt.show()\n",
    "\n"
   ]
  },
  {
   "cell_type": "markdown",
   "id": "ef516a67",
   "metadata": {},
   "source": [
    "# Task 4 : Online Delivery"
   ]
  },
  {
   "cell_type": "markdown",
   "id": "bbd74696",
   "metadata": {},
   "source": [
    "## Determine the percentage of restaurants that offer online delivery."
   ]
  },
  {
   "cell_type": "code",
   "execution_count": 78,
   "id": "016d9848",
   "metadata": {},
   "outputs": [
    {
     "data": {
      "text/plain": [
       "Index(['Restaurant ID', 'Restaurant Name', 'Country Code', 'City', 'Address',\n",
       "       'Locality', 'Locality Verbose', 'Longitude', 'Latitude', 'Cuisines',\n",
       "       'Average Cost for two', 'Currency', 'Has Table booking',\n",
       "       'Has Online delivery', 'Is delivering now', 'Switch to order menu',\n",
       "       'Price range', 'Aggregate rating', 'Rating color', 'Rating text',\n",
       "       'Votes'],\n",
       "      dtype='object')"
      ]
     },
     "execution_count": 78,
     "metadata": {},
     "output_type": "execute_result"
    }
   ],
   "source": [
    "df.columns"
   ]
  },
  {
   "cell_type": "code",
   "execution_count": 79,
   "id": "8065cce3",
   "metadata": {},
   "outputs": [
    {
     "name": "stdout",
     "output_type": "stream",
     "text": [
      "The percentage of restaurants that offer online delivery is 74.34 %\n",
      "The percentage of restaurants that does not offer online delivery is 25.66 %\n"
     ]
    }
   ],
   "source": [
    "df['Has Online delivery'].value_counts()\n",
    "Has_Online_delivery=round((7100/len(df))*100,2)\n",
    "no_Online_delivery=round((2451/len(df))*100,2)\n",
    "print(\"The percentage of restaurants that offer online delivery is\",Has_Online_delivery,\"%\")\n",
    "print(\"The percentage of restaurants that does not offer online delivery is\",no_Online_delivery,\"%\")"
   ]
  },
  {
   "cell_type": "markdown",
   "id": "89871d8f",
   "metadata": {},
   "source": [
    "## Compare the average ratings of restaurant with and without online delivery."
   ]
  },
  {
   "cell_type": "code",
   "execution_count": 80,
   "id": "f8611f57",
   "metadata": {},
   "outputs": [
    {
     "data": {
      "text/plain": [
       "Has Online delivery\n",
       "No    2.47\n",
       "Yes   3.25\n",
       "Name: Aggregate rating, dtype: float64"
      ]
     },
     "execution_count": 80,
     "metadata": {},
     "output_type": "execute_result"
    }
   ],
   "source": [
    "df.groupby(\"Has Online delivery\")['Aggregate rating'].mean()\n"
   ]
  },
  {
   "cell_type": "code",
   "execution_count": 81,
   "id": "a3e58d4c",
   "metadata": {},
   "outputs": [
    {
     "data": {
      "image/png": "[encoded data removed]",
      "text/plain": [
       "<Figure size 640x480 with 1 Axes>"
      ]
     },
     "metadata": {},
     "output_type": "display_data"
    }
   ],
   "source": [
    "sns.boxplot(x='Has Online delivery',y='Aggregate rating',data=df)\n",
    "plt.show()"
   ]
  },
  {
   "cell_type": "code",
   "execution_count": 82,
   "id": "a9c6112f",
   "metadata": {},
   "outputs": [
    {
     "data": {
      "image/png": "[encoded data removed]",
      "text/plain": [
       "<Figure size 640x480 with 1 Axes>"
      ]
     },
     "metadata": {},
     "output_type": "display_data"
    }
   ],
   "source": [
    "import matplotlib.pyplot as plt\n",
    "\n",
    "grouped = df.groupby(\"Has Online delivery\")['Aggregate rating'].mean()\n",
    "\n",
    "fig1, ax1 = plt.subplots()\n",
    "ax1.pie(grouped, labels=grouped.index, autopct='%1.1f%%', shadow=True, startangle=90)\n",
    "ax1.axis('equal')  \n",
    "plt.show()\n"
   ]
  },
  {
   "cell_type": "markdown",
   "id": "00f60cbb",
   "metadata": {},
   "source": [
    "# LEVEL TWO "
   ]
  },
  {
   "cell_type": "markdown",
   "id": "655858fd",
   "metadata": {},
   "source": [
    "## TASK 1 : Restaurant Ratings"
   ]
  },
  {
   "cell_type": "markdown",
   "id": "9a2b21d7",
   "metadata": {},
   "source": [
    "### Analyze the distribution of aggregate ratings and determine the most common rating range."
   ]
  },
  {
   "cell_type": "code",
   "execution_count": 83,
   "id": "1bff5764",
   "metadata": {},
   "outputs": [
    {
     "data": {
      "image/png": "[encoded data removed]",
      "text/plain": [
       "<Figure size 640x480 with 1 Axes>"
      ]
     },
     "metadata": {},
     "output_type": "display_data"
    }
   ],
   "source": [
    "plt.title(\"Distribution of aggregate ratings\")\n",
    "sns.boxplot(x='Aggregate rating',data=df)\n",
    "plt.show()"
   ]
  },
  {
   "cell_type": "code",
   "execution_count": 84,
   "id": "de6cf1ba",
   "metadata": {
    "slideshow": {
     "slide_type": "-"
    }
   },
   "outputs": [
    {
     "data": {
      "text/plain": [
       "Aggregate rating\n",
       "0.00    2148\n",
       "3.20     522\n",
       "3.10     519\n",
       "3.40     498\n",
       "3.30     483\n",
       "Name: count, dtype: int64"
      ]
     },
     "execution_count": 84,
     "metadata": {},
     "output_type": "execute_result"
    }
   ],
   "source": [
    "df['Aggregate rating'].value_counts().nlargest()"
   ]
  },
  {
   "cell_type": "markdown",
   "id": "660b1eaf",
   "metadata": {
    "slideshow": {
     "slide_type": "-"
    }
   },
   "source": [
    "### Calculate the average number of votes received by restaurants."
   ]
  },
  {
   "cell_type": "code",
   "execution_count": 85,
   "id": "6866024f",
   "metadata": {},
   "outputs": [
    {
     "data": {
      "text/plain": [
       "Restaurant Name\n",
       "#45                    209.00\n",
       "#Dilliwaala6           124.00\n",
       "#InstaFreeze             2.00\n",
       "#OFF Campus            216.00\n",
       "#Urban Caf              49.00\n",
       "                        ...  \n",
       "t Lounge by Dilmah      34.00\n",
       "tashas                 374.00\n",
       "ukuraa Sofras          296.00\n",
       "wagamama               131.00\n",
       "{Niche} - Cafe & Bar   492.00\n",
       "Name: Votes, Length: 7446, dtype: float64"
      ]
     },
     "execution_count": 85,
     "metadata": {},
     "output_type": "execute_result"
    }
   ],
   "source": [
    "df.groupby('Restaurant Name')['Votes'].mean()"
   ]
  },
  {
   "cell_type": "markdown",
   "id": "d5c33d60",
   "metadata": {},
   "source": [
    "## Task 2 : Cuisine Combination"
   ]
  },
  {
   "cell_type": "markdown",
   "id": "19174bbb",
   "metadata": {},
   "source": [
    "### Identify the most common combinations of cuisines in the dataset."
   ]
  },
  {
   "cell_type": "code",
   "execution_count": 86,
   "id": "a04f037d",
   "metadata": {},
   "outputs": [
    {
     "data": {
      "text/plain": [
       "Index(['Restaurant ID', 'Restaurant Name', 'Country Code', 'City', 'Address',\n",
       "       'Locality', 'Locality Verbose', 'Longitude', 'Latitude', 'Cuisines',\n",
       "       'Average Cost for two', 'Currency', 'Has Table booking',\n",
       "       'Has Online delivery', 'Is delivering now', 'Switch to order menu',\n",
       "       'Price range', 'Aggregate rating', 'Rating color', 'Rating text',\n",
       "       'Votes'],\n",
       "      dtype='object')"
      ]
     },
     "execution_count": 86,
     "metadata": {},
     "output_type": "execute_result"
    }
   ],
   "source": [
    "df.columns\n"
   ]
  },
  {
   "cell_type": "code",
   "execution_count": 87,
   "id": "99ecfc86",
   "metadata": {},
   "outputs": [],
   "source": [
    "df['length'] = df['Cuisines'].str.len()\n"
   ]
  },
  {
   "cell_type": "code",
   "execution_count": 88,
   "id": "35ca123a",
   "metadata": {},
   "outputs": [
    {
     "name": "stdout",
     "output_type": "stream",
     "text": [
      "The The Belgian Triple has the  most common combinations of Cuisines\n"
     ]
    }
   ],
   "source": [
    "Res_name= df[df['length']==df['length'].max()]['Restaurant Name']\n",
    "print(\"The The Belgian Triple has the  most common combinations of Cuisines\")\n"
   ]
  },
  {
   "cell_type": "markdown",
   "id": "4b17c7f0",
   "metadata": {},
   "source": [
    "### Determine if certain cuisine combinations tend to have higher ratings."
   ]
  },
  {
   "cell_type": "code",
   "execution_count": 111,
   "id": "aa827362",
   "metadata": {},
   "outputs": [
    {
     "data": {
      "text/html": [
       "<div>\n",
       "<style scoped>\n",
       "    .dataframe tbody tr th:only-of-type {\n",
       "        vertical-align: middle;\n",
       "    }\n",
       "\n",
       "    .dataframe tbody tr th {\n",
       "        vertical-align: top;\n",
       "    }\n",
       "\n",
       "    .dataframe thead th {\n",
       "        text-align: right;\n",
       "    }\n",
       "</style>\n",
       "<table border=\"1\" class=\"dataframe\">\n",
       "  <thead>\n",
       "    <tr style=\"text-align: right;\">\n",
       "      <th></th>\n",
       "      <th>Price range</th>\n",
       "      <th>length</th>\n",
       "    </tr>\n",
       "  </thead>\n",
       "  <tbody>\n",
       "    <tr>\n",
       "      <th>Price range</th>\n",
       "      <td>1.00</td>\n",
       "      <td>0.27</td>\n",
       "    </tr>\n",
       "    <tr>\n",
       "      <th>length</th>\n",
       "      <td>0.27</td>\n",
       "      <td>1.00</td>\n",
       "    </tr>\n",
       "  </tbody>\n",
       "</table>\n",
       "</div>"
      ],
      "text/plain": [
       "             Price range  length\n",
       "Price range         1.00    0.27\n",
       "length              0.27    1.00"
      ]
     },
     "execution_count": 111,
     "metadata": {},
     "output_type": "execute_result"
    }
   ],
   "source": [
    "df[['Price range','length']].corr()"
   ]
  },
  {
   "cell_type": "markdown",
   "id": "c89bf92a",
   "metadata": {},
   "source": [
    "## Task 3 : Geographic Analysis"
   ]
  },
  {
   "cell_type": "markdown",
   "id": "f3ef6c7b",
   "metadata": {},
   "source": [
    "### Plot the locations of restaurants on a map using longitude and latitude coordinates."
   ]
  },
  {
   "cell_type": "code",
   "execution_count": 90,
   "id": "80b23595",
   "metadata": {},
   "outputs": [
    {
     "data": {
      "image/png": "[encoded data removed]",
      "text/plain": [
       "<Figure size 640x480 with 1 Axes>"
      ]
     },
     "metadata": {},
     "output_type": "display_data"
    }
   ],
   "source": [
    "import geopandas as gpd\n",
    "import matplotlib.pyplot as plt\n",
    "from shapely.geometry import Point\n",
    "\n",
    "geometry = [Point(xy) for xy in zip(df[\"Longitude\"], df[\"Latitude\"])]\n",
    "gdf = gpd.GeoDataFrame(df, geometry=geometry)\n",
    "\n",
    "\n",
    "world = gpd.read_file(gpd.datasets.get_path('naturalearth_lowres'))\n",
    "\n",
    "ax = world.plot(color='white', edgecolor='black')\n",
    "\n",
    "\n",
    "gdf.plot(ax=ax, color='red')\n",
    "\n",
    "plt.show()"
   ]
  },
  {
   "cell_type": "markdown",
   "id": "d42a4188",
   "metadata": {},
   "source": [
    "## Task 4 : Restaurant Chains"
   ]
  },
  {
   "cell_type": "markdown",
   "id": "dc9bfa43",
   "metadata": {},
   "source": [
    "### Identify if there are any restaurant chains present in the dataset."
   ]
  },
  {
   "cell_type": "code",
   "execution_count": 91,
   "id": "aa67a7e3",
   "metadata": {},
   "outputs": [],
   "source": [
    "x=df['Restaurant Name'].value_counts().nlargest()\n"
   ]
  },
  {
   "cell_type": "markdown",
   "id": "1419fb58",
   "metadata": {},
   "source": [
    "### Analyze the ratings and popularity of  different restaurant chains"
   ]
  },
  {
   "cell_type": "code",
   "execution_count": 92,
   "id": "5e58d1e0",
   "metadata": {},
   "outputs": [
    {
     "name": "stdout",
     "output_type": "stream",
     "text": [
      "                             mean              max              min\n",
      "                 Aggregate rating Aggregate rating Aggregate rating\n",
      "Restaurant Name                                                    \n",
      "Cafe Coffee Day              2.42             3.60             0.00\n",
      "Domino's Pizza               2.74             3.70             0.00\n",
      "Green Chick Chop             2.67             3.60             0.00\n",
      "McDonald's                   3.34             3.90             0.00\n",
      "Subway                       2.91             3.80             0.00\n"
     ]
    }
   ],
   "source": [
    "list1 = ['Cafe Coffee Day', \"Domino's Pizza\", 'Subway', 'Green Chick Chop', \"McDonald's\"]\n",
    "pivot_table = df[df['Restaurant Name'].isin(list1)].pivot_table(index='Restaurant Name', values='Aggregate rating', aggfunc=[\"mean\", \"max\", \"min\"])\n",
    "print(pivot_table)"
   ]
  },
  {
   "cell_type": "markdown",
   "id": "f686a287",
   "metadata": {},
   "source": [
    "## LEVEL THREE"
   ]
  },
  {
   "cell_type": "markdown",
   "id": "8b352c3c",
   "metadata": {},
   "source": [
    "### Task 1: Restaurant Reviews"
   ]
  },
  {
   "cell_type": "markdown",
   "id": "adf94630",
   "metadata": {},
   "source": [
    "### Analyze the text reviews to identify the most common positive and negative keywords."
   ]
  },
  {
   "cell_type": "code",
   "execution_count": 93,
   "id": "881c556c",
   "metadata": {},
   "outputs": [
    {
     "data": {
      "text/html": [
       "<div>\n",
       "<style scoped>\n",
       "    .dataframe tbody tr th:only-of-type {\n",
       "        vertical-align: middle;\n",
       "    }\n",
       "\n",
       "    .dataframe tbody tr th {\n",
       "        vertical-align: top;\n",
       "    }\n",
       "\n",
       "    .dataframe thead tr th {\n",
       "        text-align: left;\n",
       "    }\n",
       "\n",
       "    .dataframe thead tr:last-of-type th {\n",
       "        text-align: right;\n",
       "    }\n",
       "</style>\n",
       "<table border=\"1\" class=\"dataframe\">\n",
       "  <thead>\n",
       "    <tr>\n",
       "      <th></th>\n",
       "      <th>max</th>\n",
       "      <th>mean</th>\n",
       "      <th>min</th>\n",
       "    </tr>\n",
       "    <tr>\n",
       "      <th></th>\n",
       "      <th>Aggregate rating</th>\n",
       "      <th>Aggregate rating</th>\n",
       "      <th>Aggregate rating</th>\n",
       "    </tr>\n",
       "    <tr>\n",
       "      <th>Rating text</th>\n",
       "      <th></th>\n",
       "      <th></th>\n",
       "      <th></th>\n",
       "    </tr>\n",
       "  </thead>\n",
       "  <tbody>\n",
       "    <tr>\n",
       "      <th>Average</th>\n",
       "      <td>3.40</td>\n",
       "      <td>3.05</td>\n",
       "      <td>2.50</td>\n",
       "    </tr>\n",
       "    <tr>\n",
       "      <th>Excellent</th>\n",
       "      <td>4.90</td>\n",
       "      <td>4.66</td>\n",
       "      <td>4.50</td>\n",
       "    </tr>\n",
       "    <tr>\n",
       "      <th>Good</th>\n",
       "      <td>3.90</td>\n",
       "      <td>3.68</td>\n",
       "      <td>3.50</td>\n",
       "    </tr>\n",
       "    <tr>\n",
       "      <th>Not rated</th>\n",
       "      <td>0.00</td>\n",
       "      <td>0.00</td>\n",
       "      <td>0.00</td>\n",
       "    </tr>\n",
       "    <tr>\n",
       "      <th>Poor</th>\n",
       "      <td>2.40</td>\n",
       "      <td>2.30</td>\n",
       "      <td>1.80</td>\n",
       "    </tr>\n",
       "    <tr>\n",
       "      <th>Very Good</th>\n",
       "      <td>4.40</td>\n",
       "      <td>4.17</td>\n",
       "      <td>4.00</td>\n",
       "    </tr>\n",
       "  </tbody>\n",
       "</table>\n",
       "</div>"
      ],
      "text/plain": [
       "                         max             mean              min\n",
       "            Aggregate rating Aggregate rating Aggregate rating\n",
       "Rating text                                                   \n",
       "Average                 3.40             3.05             2.50\n",
       "Excellent               4.90             4.66             4.50\n",
       "Good                    3.90             3.68             3.50\n",
       "Not rated               0.00             0.00             0.00\n",
       "Poor                    2.40             2.30             1.80\n",
       "Very Good               4.40             4.17             4.00"
      ]
     },
     "execution_count": 93,
     "metadata": {},
     "output_type": "execute_result"
    }
   ],
   "source": [
    "df.pivot_table(index=\"Rating text\",values='Aggregate rating',aggfunc=['max',\"mean\",\"min\"])\n"
   ]
  },
  {
   "cell_type": "markdown",
   "id": "10a13a4f",
   "metadata": {},
   "source": [
    "### Calculate the average length of reviews and explore if there is a relationship between review length and rating"
   ]
  },
  {
   "cell_type": "code",
   "execution_count": 94,
   "id": "b5432728",
   "metadata": {},
   "outputs": [
    {
     "data": {
      "text/plain": [
       "<Axes: xlabel='length', ylabel='Aggregate rating'>"
      ]
     },
     "execution_count": 94,
     "metadata": {},
     "output_type": "execute_result"
    },
    {
     "data": {
      "image/png": "[encoded data removed]",
      "text/plain": [
       "<Figure size 640x480 with 1 Axes>"
      ]
     },
     "metadata": {},
     "output_type": "display_data"
    }
   ],
   "source": [
    "sns.scatterplot(x='length',y='Aggregate rating',data=df)"
   ]
  },
  {
   "cell_type": "markdown",
   "id": "f92fea23",
   "metadata": {},
   "source": [
    "### Task 2 : Votes Analysis"
   ]
  },
  {
   "cell_type": "markdown",
   "id": "a88e4b44",
   "metadata": {},
   "source": [
    "### Identify the restaurants with the highest and lowest number of votes."
   ]
  },
  {
   "cell_type": "code",
   "execution_count": 95,
   "id": "493f0825",
   "metadata": {},
   "outputs": [
    {
     "data": {
      "text/html": [
       "<div>\n",
       "<style scoped>\n",
       "    .dataframe tbody tr th:only-of-type {\n",
       "        vertical-align: middle;\n",
       "    }\n",
       "\n",
       "    .dataframe tbody tr th {\n",
       "        vertical-align: top;\n",
       "    }\n",
       "\n",
       "    .dataframe thead th {\n",
       "        text-align: right;\n",
       "    }\n",
       "</style>\n",
       "<table border=\"1\" class=\"dataframe\">\n",
       "  <thead>\n",
       "    <tr style=\"text-align: right;\">\n",
       "      <th></th>\n",
       "      <th>Restaurant Name</th>\n",
       "      <th>Votes</th>\n",
       "    </tr>\n",
       "  </thead>\n",
       "  <tbody>\n",
       "    <tr>\n",
       "      <th>728</th>\n",
       "      <td>Toit</td>\n",
       "      <td>10934</td>\n",
       "    </tr>\n",
       "  </tbody>\n",
       "</table>\n",
       "</div>"
      ],
      "text/plain": [
       "    Restaurant Name  Votes\n",
       "728            Toit  10934"
      ]
     },
     "execution_count": 95,
     "metadata": {},
     "output_type": "execute_result"
    }
   ],
   "source": [
    "df[df['Votes']==df['Votes'].max()][['Restaurant Name','Votes']]"
   ]
  },
  {
   "cell_type": "code",
   "execution_count": 96,
   "id": "3ea45ca3",
   "metadata": {},
   "outputs": [
    {
     "data": {
      "text/html": [
       "<div>\n",
       "<style scoped>\n",
       "    .dataframe tbody tr th:only-of-type {\n",
       "        vertical-align: middle;\n",
       "    }\n",
       "\n",
       "    .dataframe tbody tr th {\n",
       "        vertical-align: top;\n",
       "    }\n",
       "\n",
       "    .dataframe thead th {\n",
       "        text-align: right;\n",
       "    }\n",
       "</style>\n",
       "<table border=\"1\" class=\"dataframe\">\n",
       "  <thead>\n",
       "    <tr style=\"text-align: right;\">\n",
       "      <th></th>\n",
       "      <th>Restaurant Name</th>\n",
       "      <th>Votes</th>\n",
       "    </tr>\n",
       "  </thead>\n",
       "  <tbody>\n",
       "    <tr>\n",
       "      <th>69</th>\n",
       "      <td>Cantinho da Gula</td>\n",
       "      <td>0</td>\n",
       "    </tr>\n",
       "    <tr>\n",
       "      <th>874</th>\n",
       "      <td>The Chaiwalas</td>\n",
       "      <td>0</td>\n",
       "    </tr>\n",
       "    <tr>\n",
       "      <th>879</th>\n",
       "      <td>Fusion Food Corner</td>\n",
       "      <td>0</td>\n",
       "    </tr>\n",
       "    <tr>\n",
       "      <th>880</th>\n",
       "      <td>Punjabi Rasoi</td>\n",
       "      <td>0</td>\n",
       "    </tr>\n",
       "    <tr>\n",
       "      <th>887</th>\n",
       "      <td>Baskin Robbin</td>\n",
       "      <td>0</td>\n",
       "    </tr>\n",
       "    <tr>\n",
       "      <th>...</th>\n",
       "      <td>...</td>\n",
       "      <td>...</td>\n",
       "    </tr>\n",
       "    <tr>\n",
       "      <th>9044</th>\n",
       "      <td>6 Packs Momos</td>\n",
       "      <td>0</td>\n",
       "    </tr>\n",
       "    <tr>\n",
       "      <th>9098</th>\n",
       "      <td>Cafe' Wow</td>\n",
       "      <td>0</td>\n",
       "    </tr>\n",
       "    <tr>\n",
       "      <th>9099</th>\n",
       "      <td>Chef's Basket Pop Up Caf</td>\n",
       "      <td>0</td>\n",
       "    </tr>\n",
       "    <tr>\n",
       "      <th>9103</th>\n",
       "      <td>The Hangout-Deli</td>\n",
       "      <td>0</td>\n",
       "    </tr>\n",
       "    <tr>\n",
       "      <th>9111</th>\n",
       "      <td>Platters</td>\n",
       "      <td>0</td>\n",
       "    </tr>\n",
       "  </tbody>\n",
       "</table>\n",
       "<p>1094 rows × 2 columns</p>\n",
       "</div>"
      ],
      "text/plain": [
       "               Restaurant Name  Votes\n",
       "69            Cantinho da Gula      0\n",
       "874              The Chaiwalas      0\n",
       "879         Fusion Food Corner      0\n",
       "880              Punjabi Rasoi      0\n",
       "887              Baskin Robbin      0\n",
       "...                        ...    ...\n",
       "9044             6 Packs Momos      0\n",
       "9098                 Cafe' Wow      0\n",
       "9099  Chef's Basket Pop Up Caf      0\n",
       "9103          The Hangout-Deli      0\n",
       "9111                  Platters      0\n",
       "\n",
       "[1094 rows x 2 columns]"
      ]
     },
     "execution_count": 96,
     "metadata": {},
     "output_type": "execute_result"
    }
   ],
   "source": [
    "df[df['Votes']==df['Votes'].min()][['Restaurant Name','Votes']]"
   ]
  },
  {
   "cell_type": "markdown",
   "id": "5d03d0e8",
   "metadata": {},
   "source": [
    "### Analyze if there is a correlation between the number of votes and the rating of a restaurant"
   ]
  },
  {
   "cell_type": "code",
   "execution_count": 97,
   "id": "91de6f4d",
   "metadata": {},
   "outputs": [
    {
     "data": {
      "text/plain": [
       "<Axes: xlabel='Votes', ylabel='Aggregate rating'>"
      ]
     },
     "execution_count": 97,
     "metadata": {},
     "output_type": "execute_result"
    },
    {
     "data": {
      "image/png": "[encoded data removed]",
      "text/plain": [
       "<Figure size 640x480 with 1 Axes>"
      ]
     },
     "metadata": {},
     "output_type": "display_data"
    }
   ],
   "source": [
    "sns.scatterplot(x='Votes',y=\"Aggregate rating\",data=df)"
   ]
  },
  {
   "cell_type": "markdown",
   "id": "5420eeb0",
   "metadata": {},
   "source": [
    "### Task 3 : Price Range vs. Online Delivery and Table Booking"
   ]
  },
  {
   "cell_type": "markdown",
   "id": "f5fd94f1",
   "metadata": {},
   "source": [
    "### Analyze if there is a relationship between the price range and the availability of online delivery and table booking."
   ]
  },
  {
   "cell_type": "code",
   "execution_count": 98,
   "id": "67d9fd87",
   "metadata": {},
   "outputs": [
    {
     "data": {
      "text/html": [
       "<div>\n",
       "<style scoped>\n",
       "    .dataframe tbody tr th:only-of-type {\n",
       "        vertical-align: middle;\n",
       "    }\n",
       "\n",
       "    .dataframe tbody tr th {\n",
       "        vertical-align: top;\n",
       "    }\n",
       "\n",
       "    .dataframe thead th {\n",
       "        text-align: right;\n",
       "    }\n",
       "</style>\n",
       "<table border=\"1\" class=\"dataframe\">\n",
       "  <thead>\n",
       "    <tr style=\"text-align: right;\">\n",
       "      <th></th>\n",
       "      <th>Price range</th>\n",
       "      <th>Has Table booking_0/1</th>\n",
       "      <th>Is delivering now_0/1</th>\n",
       "    </tr>\n",
       "  </thead>\n",
       "  <tbody>\n",
       "    <tr>\n",
       "      <th>Price range</th>\n",
       "      <td>1.00</td>\n",
       "      <td>0.50</td>\n",
       "      <td>0.01</td>\n",
       "    </tr>\n",
       "    <tr>\n",
       "      <th>Has Table booking_0/1</th>\n",
       "      <td>0.50</td>\n",
       "      <td>1.00</td>\n",
       "      <td>-0.02</td>\n",
       "    </tr>\n",
       "    <tr>\n",
       "      <th>Is delivering now_0/1</th>\n",
       "      <td>0.01</td>\n",
       "      <td>-0.02</td>\n",
       "      <td>1.00</td>\n",
       "    </tr>\n",
       "  </tbody>\n",
       "</table>\n",
       "</div>"
      ],
      "text/plain": [
       "                       Price range  Has Table booking_0/1  \\\n",
       "Price range                   1.00                   0.50   \n",
       "Has Table booking_0/1         0.50                   1.00   \n",
       "Is delivering now_0/1         0.01                  -0.02   \n",
       "\n",
       "                       Is delivering now_0/1  \n",
       "Price range                             0.01  \n",
       "Has Table booking_0/1                  -0.02  \n",
       "Is delivering now_0/1                   1.00  "
      ]
     },
     "execution_count": 98,
     "metadata": {},
     "output_type": "execute_result"
    }
   ],
   "source": [
    "df['Is delivering now_0/1'] = df['Is delivering now'].map({'Yes': 1, 'No': 0})\n",
    "df['Has Table booking_0/1'] = df['Has Table booking'].map({'Yes': 1, 'No': 0})\n",
    "df[['Price range','Has Table booking_0/1', 'Is delivering now_0/1']].corr()"
   ]
  },
  {
   "cell_type": "markdown",
   "id": "9b53fe22",
   "metadata": {},
   "source": [
    "### Determine if higher-priced restaurants are  more likely to offer these services."
   ]
  },
  {
   "cell_type": "code",
   "execution_count": 99,
   "id": "d16deb76",
   "metadata": {},
   "outputs": [
    {
     "data": {
      "text/plain": [
       "Has Table booking  Is delivering now\n",
       "No                 No                   4\n",
       "                   Yes                  3\n",
       "Yes                No                   4\n",
       "                   Yes                  3\n",
       "Name: Price range, dtype: int64"
      ]
     },
     "execution_count": 99,
     "metadata": {},
     "output_type": "execute_result"
    }
   ],
   "source": [
    "df.groupby(['Has Table booking', 'Is delivering now'])['Price range'].max()"
   ]
  }
 ],
 "metadata": {
  "kernelspec": {
   "display_name": "Python 3 (ipykernel)",
   "language": "python",
   "name": "python3"
  },
  "language_info": {
   "codemirror_mode": {
    "name": "ipython",
    "version": 3
   },
   "file_extension": ".py",
   "mimetype": "text/x-python",
   "name": "python",
   "nbconvert_exporter": "python",
   "pygments_lexer": "ipython3",
   "version": "3.12.3"
  }
 },
 "nbformat": 4,
 "nbformat_minor": 5
}
